{
 "cells": [
  {
   "cell_type": "code",
   "execution_count": 1,
   "id": "618c9afa",
   "metadata": {},
   "outputs": [],
   "source": [
    "# Define the configuration of the environment that will be built\n",
    "\n",
    "env_config_dict = {\n",
    "    # ===== SCENARIO CLASS =====\n",
    "    # Which Scenario class to use: the class's name in the Scenario Registry (foundation.scenarios).\n",
    "    # The environment object will be an instance of the Scenario class.\n",
    "    'scenario_name': 'stock_market_simulation',\n",
    "    \n",
    "    # ===== COMPONENTS =====\n",
    "    # Which components to use (specified as list of (\"component_name\", {component_kwargs}) tuples).\n",
    "    #   \"component_name\" refers to the Component class's name in the Component Registry (foundation.components)\n",
    "    #   {component_kwargs} is a dictionary of kwargs passed to the Component class\n",
    "    # The order in which components reset, step, and generate obs follows their listed order below.\n",
    "    'components': [\n",
    "        # (1) Building houses\n",
    "        ('BuyOrSellStocks', {}),\n",
    "        # (2) Trading collectible resources\n",
    "        ('ExecCircuitBreaker', {}),\n",
    "    ],\n",
    "    \n",
    "\n",
    "    # ===== STANDARD ARGUMENTS ======\n",
    "    # kwargs that are used by every Scenario class (i.e. defined in BaseEnvironment)\n",
    "    'n_agents': 4,          # Number of non-planner agents (must be > 1)\n",
    "    'world_size': [1, 1], # [Height, Width] of the env world\n",
    "    'episode_length': 100, # Number of timesteps per episode\n",
    "    \n",
    "    # In multi-action-mode, the policy selects an action for each action subspace (defined in component code).\n",
    "    # Otherwise, the policy selects only 1 action.\n",
    "    'multi_action_mode_agents': False,\n",
    "    'multi_action_mode_planner': False,\n",
    "    \n",
    "    # When flattening observations, concatenate scalar & vector observations before output.\n",
    "    # Otherwise, return observations with minimal processing.\n",
    "    'flatten_observations': False,\n",
    "    # When Flattening masks, concatenate each action subspace mask into a single array.\n",
    "    # Note: flatten_masks = True is required for masking action logits in the code below.\n",
    "    'flatten_masks': True,\n",
    "}"
   ]
  },
  {
   "cell_type": "code",
   "execution_count": 5,
   "id": "e637b8f9",
   "metadata": {},
   "outputs": [
    {
     "name": "stdout",
     "output_type": "stream",
     "text": [
      "Found existing installation: Tree 0.2.4\n",
      "Uninstalling Tree-0.2.4:\n",
      "  Successfully uninstalled Tree-0.2.4\n"
     ]
    }
   ],
   "source": [
    "!pip uninstall tree -y"
   ]
  },
  {
   "cell_type": "code",
   "execution_count": 6,
   "id": "299a2eed",
   "metadata": {},
   "outputs": [
    {
     "name": "stdout",
     "output_type": "stream",
     "text": [
      "Found existing installation: dm-tree 0.1.8\n",
      "Uninstalling dm-tree-0.1.8:\n",
      "  Successfully uninstalled dm-tree-0.1.8\n"
     ]
    }
   ],
   "source": [
    "!pip uninstall dm-tree -y"
   ]
  },
  {
   "cell_type": "code",
   "execution_count": null,
   "id": "d00d14b6",
   "metadata": {},
   "outputs": [],
   "source": [
    "!y"
   ]
  },
  {
   "cell_type": "code",
   "execution_count": 7,
   "id": "cc20961a",
   "metadata": {},
   "outputs": [
    {
     "name": "stdout",
     "output_type": "stream",
     "text": [
      "Requirement already satisfied: ray in c:\\users\\caspe\\anaconda3\\lib\\site-packages (2.10.0)\n",
      "Requirement already satisfied: filelock in c:\\users\\caspe\\anaconda3\\lib\\site-packages (from ray) (3.6.0)\n",
      "Requirement already satisfied: packaging in c:\\users\\caspe\\appdata\\roaming\\python\\python39\\site-packages (from ray) (20.9)\n",
      "Requirement already satisfied: jsonschema in c:\\users\\caspe\\appdata\\roaming\\python\\python39\\site-packages (from ray) (3.2.0)\n",
      "Requirement already satisfied: msgpack<2.0.0,>=1.0.0 in c:\\users\\caspe\\anaconda3\\lib\\site-packages (from ray) (1.0.3)\n",
      "Requirement already satisfied: pyyaml in c:\\users\\caspe\\appdata\\roaming\\python\\python39\\site-packages (from ray) (5.4.1)\n",
      "Requirement already satisfied: requests in c:\\users\\caspe\\appdata\\roaming\\python\\python39\\site-packages (from ray) (2.25.1)\n",
      "Requirement already satisfied: click>=7.0 in c:\\users\\caspe\\appdata\\roaming\\python\\python39\\site-packages (from ray) (8.0.1)\n",
      "Requirement already satisfied: protobuf!=3.19.5,>=3.15.3 in c:\\users\\caspe\\anaconda3\\lib\\site-packages (from ray) (5.26.1)\n",
      "Requirement already satisfied: frozenlist in c:\\users\\caspe\\anaconda3\\lib\\site-packages (from ray) (1.4.1)\n",
      "Requirement already satisfied: aiosignal in c:\\users\\caspe\\anaconda3\\lib\\site-packages (from ray) (1.3.1)\n",
      "Requirement already satisfied: colorama in c:\\users\\caspe\\anaconda3\\lib\\site-packages (from click>=7.0->ray) (0.4.5)\n",
      "Requirement already satisfied: attrs>=17.4.0 in c:\\users\\caspe\\appdata\\roaming\\python\\python39\\site-packages (from jsonschema->ray) (21.2.0)\n",
      "Requirement already satisfied: pyrsistent>=0.14.0 in c:\\users\\caspe\\appdata\\roaming\\python\\python39\\site-packages (from jsonschema->ray) (0.17.3)\n",
      "Requirement already satisfied: setuptools in c:\\users\\caspe\\anaconda3\\lib\\site-packages (from jsonschema->ray) (63.4.1)\n",
      "Requirement already satisfied: six>=1.11.0 in c:\\users\\caspe\\anaconda3\\lib\\site-packages (from jsonschema->ray) (1.16.0)\n",
      "Requirement already satisfied: pyparsing>=2.0.2 in c:\\users\\caspe\\appdata\\roaming\\python\\python39\\site-packages (from packaging->ray) (2.4.7)\n",
      "Requirement already satisfied: chardet<5,>=3.0.2 in c:\\users\\caspe\\anaconda3\\lib\\site-packages (from requests->ray) (4.0.0)\n",
      "Requirement already satisfied: idna<3,>=2.5 in c:\\users\\caspe\\appdata\\roaming\\python\\python39\\site-packages (from requests->ray) (2.10)\n",
      "Requirement already satisfied: urllib3<1.27,>=1.21.1 in c:\\users\\caspe\\anaconda3\\lib\\site-packages (from requests->ray) (1.26.5)\n",
      "Requirement already satisfied: certifi>=2017.4.17 in c:\\users\\caspe\\anaconda3\\lib\\site-packages (from requests->ray) (2020.12.5)\n"
     ]
    }
   ],
   "source": [
    "!pip install --upgrade ray"
   ]
  },
  {
   "cell_type": "code",
   "execution_count": 12,
   "id": "25b6d5e5",
   "metadata": {},
   "outputs": [
    {
     "name": "stdout",
     "output_type": "stream",
     "text": [
      "Collecting typer"
     ]
    },
    {
     "name": "stderr",
     "output_type": "stream",
     "text": [
      "ERROR: pip's dependency resolver does not currently take into account all the packages that are installed. This behaviour is the source of the following dependency conflicts.\n",
      "spyder 5.2.2 requires pyqt5<5.13, which is not installed.\n",
      "spyder 5.2.2 requires pyqtwebengine<5.13, which is not installed.\n",
      "spyder 5.2.2 requires qtconsole<5.3.0,>=5.2.1, but you have qtconsole 5.1.0 which is incompatible.\n",
      "jupyter-server 1.18.1 requires nbconvert>=6.4.4, but you have nbconvert 6.0.7 which is incompatible.\n",
      "jupyter-server 1.18.1 requires nbformat>=5.2.0, but you have nbformat 5.1.3 which is incompatible.\n",
      "jupyter-server 1.18.1 requires traitlets>=5.1, but you have traitlets 5.0.5 which is incompatible.\n",
      "ai-economist 1.7.1 requires Pygments==2.9.0, but you have pygments 2.17.2 which is incompatible.\n",
      "ai-economist 1.7.1 requires typing-extensions==3.10.0.0, but you have typing-extensions 4.11.0 which is incompatible.\n"
     ]
    },
    {
     "name": "stdout",
     "output_type": "stream",
     "text": [
      "\n",
      "  Downloading typer-0.12.3-py3-none-any.whl (47 kB)\n",
      "     -------------------------------------- 47.2/47.2 kB 803.7 kB/s eta 0:00:00\n",
      "Requirement already satisfied: click>=8.0.0 in c:\\users\\caspe\\appdata\\roaming\\python\\python39\\site-packages (from typer) (8.0.1)\n",
      "Requirement already satisfied: typing-extensions>=3.7.4.3 in c:\\users\\caspe\\anaconda3\\lib\\site-packages (from typer) (4.11.0)\n",
      "Collecting rich>=10.11.0\n",
      "  Downloading rich-13.7.1-py3-none-any.whl (240 kB)\n",
      "     -------------------------------------- 240.7/240.7 kB 3.0 MB/s eta 0:00:00\n",
      "Collecting shellingham>=1.3.0\n",
      "  Downloading shellingham-1.5.4-py2.py3-none-any.whl (9.8 kB)\n",
      "Requirement already satisfied: colorama in c:\\users\\caspe\\anaconda3\\lib\\site-packages (from click>=8.0.0->typer) (0.4.5)\n",
      "Collecting pygments<3.0.0,>=2.13.0\n",
      "  Downloading pygments-2.17.2-py3-none-any.whl (1.2 MB)\n",
      "     ---------------------------------------- 1.2/1.2 MB 5.3 MB/s eta 0:00:00\n",
      "Collecting markdown-it-py>=2.2.0\n",
      "  Downloading markdown_it_py-3.0.0-py3-none-any.whl (87 kB)\n",
      "     ---------------------------------------- 87.5/87.5 kB 5.2 MB/s eta 0:00:00\n",
      "Collecting mdurl~=0.1\n",
      "  Downloading mdurl-0.1.2-py3-none-any.whl (10.0 kB)\n",
      "Installing collected packages: shellingham, pygments, mdurl, markdown-it-py, rich, typer\n",
      "  Attempting uninstall: pygments\n",
      "    Found existing installation: Pygments 2.9.0\n",
      "    Uninstalling Pygments-2.9.0:\n",
      "      Successfully uninstalled Pygments-2.9.0\n",
      "Successfully installed markdown-it-py-3.0.0 mdurl-0.1.2 pygments-2.17.2 rich-13.7.1 shellingham-1.5.4 typer-0.12.3\n"
     ]
    }
   ],
   "source": [
    "!pip install typer"
   ]
  },
  {
   "cell_type": "code",
   "execution_count": 13,
   "id": "029c36a0",
   "metadata": {},
   "outputs": [
    {
     "ename": "KeyError",
     "evalue": "'\"stock_market_simulation\" is not a name of a registered class'",
     "output_type": "error",
     "traceback": [
      "\u001b[1;31m---------------------------------------------------------------------------\u001b[0m",
      "\u001b[1;31mKeyError\u001b[0m                                  Traceback (most recent call last)",
      "\u001b[1;32m<ipython-input-13-12508959bd45>\u001b[0m in \u001b[0;36m<module>\u001b[1;34m\u001b[0m\n\u001b[0;32m      1\u001b[0m \u001b[1;32mfrom\u001b[0m \u001b[0mrllib\u001b[0m\u001b[1;33m.\u001b[0m\u001b[0menv_wrapper\u001b[0m \u001b[1;32mimport\u001b[0m \u001b[0mRLlibEnvWrapper\u001b[0m\u001b[1;33m\u001b[0m\u001b[1;33m\u001b[0m\u001b[0m\n\u001b[1;32m----> 2\u001b[1;33m \u001b[0menv_obj\u001b[0m \u001b[1;33m=\u001b[0m \u001b[0mRLlibEnvWrapper\u001b[0m\u001b[1;33m(\u001b[0m\u001b[1;33m{\u001b[0m\u001b[1;34m\"env_config_dict\"\u001b[0m\u001b[1;33m:\u001b[0m \u001b[0menv_config_dict\u001b[0m\u001b[1;33m}\u001b[0m\u001b[1;33m,\u001b[0m \u001b[0mverbose\u001b[0m\u001b[1;33m=\u001b[0m\u001b[1;32mTrue\u001b[0m\u001b[1;33m)\u001b[0m\u001b[1;33m\u001b[0m\u001b[1;33m\u001b[0m\u001b[0m\n\u001b[0m",
      "\u001b[1;32m~\\Documents\\GitHub Private\\ai-economist\\tutorials\\rllib\\env_wrapper.py\u001b[0m in \u001b[0;36m__init__\u001b[1;34m(self, env_config, verbose)\u001b[0m\n\u001b[0;32m     66\u001b[0m             \u001b[0mself\u001b[0m\u001b[1;33m.\u001b[0m\u001b[0menv_id\u001b[0m \u001b[1;33m=\u001b[0m \u001b[1;32mNone\u001b[0m\u001b[1;33m\u001b[0m\u001b[1;33m\u001b[0m\u001b[0m\n\u001b[0;32m     67\u001b[0m \u001b[1;33m\u001b[0m\u001b[0m\n\u001b[1;32m---> 68\u001b[1;33m         \u001b[0mself\u001b[0m\u001b[1;33m.\u001b[0m\u001b[0menv\u001b[0m \u001b[1;33m=\u001b[0m \u001b[0mfoundation\u001b[0m\u001b[1;33m.\u001b[0m\u001b[0mmake_env_instance\u001b[0m\u001b[1;33m(\u001b[0m\u001b[1;33m**\u001b[0m\u001b[0mself\u001b[0m\u001b[1;33m.\u001b[0m\u001b[0menv_config_dict\u001b[0m\u001b[1;33m)\u001b[0m\u001b[1;33m\u001b[0m\u001b[1;33m\u001b[0m\u001b[0m\n\u001b[0m\u001b[0;32m     69\u001b[0m         \u001b[0mself\u001b[0m\u001b[1;33m.\u001b[0m\u001b[0mverbose\u001b[0m \u001b[1;33m=\u001b[0m \u001b[0mverbose\u001b[0m\u001b[1;33m\u001b[0m\u001b[1;33m\u001b[0m\u001b[0m\n\u001b[0;32m     70\u001b[0m         \u001b[0mself\u001b[0m\u001b[1;33m.\u001b[0m\u001b[0msample_agent_idx\u001b[0m \u001b[1;33m=\u001b[0m \u001b[0mstr\u001b[0m\u001b[1;33m(\u001b[0m\u001b[0mself\u001b[0m\u001b[1;33m.\u001b[0m\u001b[0menv\u001b[0m\u001b[1;33m.\u001b[0m\u001b[0mall_agents\u001b[0m\u001b[1;33m[\u001b[0m\u001b[1;36m0\u001b[0m\u001b[1;33m]\u001b[0m\u001b[1;33m.\u001b[0m\u001b[0midx\u001b[0m\u001b[1;33m)\u001b[0m\u001b[1;33m\u001b[0m\u001b[1;33m\u001b[0m\u001b[0m\n",
      "\u001b[1;32mc:\\users\\caspe\\documents\\github private\\ai-economist\\tutorials\\src\\ai-economist\\ai_economist\\foundation\\__init__.py\u001b[0m in \u001b[0;36mmake_env_instance\u001b[1;34m(scenario_name, **kwargs)\u001b[0m\n\u001b[0;32m     15\u001b[0m \u001b[1;33m\u001b[0m\u001b[0m\n\u001b[0;32m     16\u001b[0m \u001b[1;32mdef\u001b[0m \u001b[0mmake_env_instance\u001b[0m\u001b[1;33m(\u001b[0m\u001b[0mscenario_name\u001b[0m\u001b[1;33m,\u001b[0m \u001b[1;33m**\u001b[0m\u001b[0mkwargs\u001b[0m\u001b[1;33m)\u001b[0m\u001b[1;33m:\u001b[0m\u001b[1;33m\u001b[0m\u001b[1;33m\u001b[0m\u001b[0m\n\u001b[1;32m---> 17\u001b[1;33m     \u001b[0mscenario_class\u001b[0m \u001b[1;33m=\u001b[0m \u001b[0mscenarios\u001b[0m\u001b[1;33m.\u001b[0m\u001b[0mget\u001b[0m\u001b[1;33m(\u001b[0m\u001b[0mscenario_name\u001b[0m\u001b[1;33m)\u001b[0m\u001b[1;33m\u001b[0m\u001b[1;33m\u001b[0m\u001b[0m\n\u001b[0m\u001b[0;32m     18\u001b[0m     \u001b[1;32mreturn\u001b[0m \u001b[0mscenario_class\u001b[0m\u001b[1;33m(\u001b[0m\u001b[1;33m**\u001b[0m\u001b[0mkwargs\u001b[0m\u001b[1;33m)\u001b[0m\u001b[1;33m\u001b[0m\u001b[1;33m\u001b[0m\u001b[0m\n",
      "\u001b[1;32mc:\\users\\caspe\\documents\\github private\\ai-economist\\tutorials\\src\\ai-economist\\ai_economist\\foundation\\base\\registrar.py\u001b[0m in \u001b[0;36mget\u001b[1;34m(self, cls_name)\u001b[0m\n\u001b[0;32m     78\u001b[0m         \"\"\"\n\u001b[0;32m     79\u001b[0m         \u001b[1;32mif\u001b[0m \u001b[0mcls_name\u001b[0m\u001b[1;33m.\u001b[0m\u001b[0mlower\u001b[0m\u001b[1;33m(\u001b[0m\u001b[1;33m)\u001b[0m \u001b[1;32mnot\u001b[0m \u001b[1;32min\u001b[0m \u001b[0mself\u001b[0m\u001b[1;33m.\u001b[0m\u001b[0m_lookup\u001b[0m\u001b[1;33m:\u001b[0m\u001b[1;33m\u001b[0m\u001b[1;33m\u001b[0m\u001b[0m\n\u001b[1;32m---> 80\u001b[1;33m             \u001b[1;32mraise\u001b[0m \u001b[0mKeyError\u001b[0m\u001b[1;33m(\u001b[0m\u001b[1;34m'\"{}\" is not a name of a registered class'\u001b[0m\u001b[1;33m.\u001b[0m\u001b[0mformat\u001b[0m\u001b[1;33m(\u001b[0m\u001b[0mcls_name\u001b[0m\u001b[1;33m)\u001b[0m\u001b[1;33m)\u001b[0m\u001b[1;33m\u001b[0m\u001b[1;33m\u001b[0m\u001b[0m\n\u001b[0m\u001b[0;32m     81\u001b[0m         \u001b[1;32mreturn\u001b[0m \u001b[0mself\u001b[0m\u001b[1;33m.\u001b[0m\u001b[0m_lookup\u001b[0m\u001b[1;33m[\u001b[0m\u001b[0mcls_name\u001b[0m\u001b[1;33m.\u001b[0m\u001b[0mlower\u001b[0m\u001b[1;33m(\u001b[0m\u001b[1;33m)\u001b[0m\u001b[1;33m]\u001b[0m\u001b[1;33m\u001b[0m\u001b[1;33m\u001b[0m\u001b[0m\n\u001b[0;32m     82\u001b[0m \u001b[1;33m\u001b[0m\u001b[0m\n",
      "\u001b[1;31mKeyError\u001b[0m: '\"stock_market_simulation\" is not a name of a registered class'"
     ]
    }
   ],
   "source": [
    "from rllib.env_wrapper import RLlibEnvWrapper\n",
    "env_obj = RLlibEnvWrapper({\"env_config_dict\": env_config_dict}, verbose=True)"
   ]
  },
  {
   "cell_type": "code",
   "execution_count": null,
   "id": "fe751b55",
   "metadata": {},
   "outputs": [],
   "source": [
    "import ray\n",
    "from ray.rllib.agents.ppo import PPOTrainer"
   ]
  },
  {
   "cell_type": "code",
   "execution_count": null,
   "id": "9a826ce0",
   "metadata": {},
   "outputs": [],
   "source": [
    "policies = {\n",
    "    \"a\": (\n",
    "        None,  # uses default policy\n",
    "        env_obj.observation_space,\n",
    "        env_obj.action_space,\n",
    "        {}  # define a custom agent policy configuration.\n",
    "    ),\n",
    "    \"p\": (\n",
    "        None,  # uses default policy\n",
    "        env_obj.observation_space_pl,\n",
    "        env_obj.action_space_pl,\n",
    "        {}  # define a custom planner policy configuration.\n",
    "    )\n",
    "}\n",
    "\n",
    "# In foundation, all the agents have integer ids and the social planner has an id of \"p\"\n",
    "policy_mapping_fun = lambda i: \"a\" if str(i).isdigit() else \"p\"\n",
    "\n",
    "policies_to_train = [\"a\", \"p\"]"
   ]
  },
  {
   "cell_type": "code",
   "execution_count": null,
   "id": "64331642",
   "metadata": {},
   "outputs": [],
   "source": [
    "trainer_config = {\n",
    "    \"multiagent\": {\n",
    "        \"policies\": policies,\n",
    "        \"policies_to_train\": policies_to_train,\n",
    "        \"policy_mapping_fn\": policy_mapping_fun,\n",
    "    }\n",
    "}"
   ]
  },
  {
   "cell_type": "code",
   "execution_count": null,
   "id": "f2476f35",
   "metadata": {},
   "outputs": [],
   "source": [
    "trainer_config.update(\n",
    "    {\n",
    "        \"num_workers\": 2,\n",
    "        \"num_envs_per_worker\": 2,\n",
    "        # Other training parameters\n",
    "        \"train_batch_size\":  4000,\n",
    "        \"sgd_minibatch_size\": 4000,\n",
    "        \"num_sgd_iter\": 1\n",
    "    }\n",
    ")"
   ]
  },
  {
   "cell_type": "code",
   "execution_count": null,
   "id": "33e6c665",
   "metadata": {},
   "outputs": [],
   "source": [
    "# We also add the \"num_envs_per_worker\" parameter for the env. wrapper to index the environments.\n",
    "env_config = {\n",
    "    \"env_config_dict\": env_config_dict,\n",
    "    \"num_envs_per_worker\": trainer_config.get('num_envs_per_worker'),   \n",
    "}\n",
    "\n",
    "trainer_config.update(\n",
    "    {\n",
    "        \"env_config\": env_config        \n",
    "    }\n",
    ")"
   ]
  },
  {
   "cell_type": "code",
   "execution_count": null,
   "id": "cf127879",
   "metadata": {},
   "outputs": [],
   "source": [
    "# Initialize Ray\n",
    "ray.init(webui_host=\"127.0.0.1\")"
   ]
  },
  {
   "cell_type": "code",
   "execution_count": null,
   "id": "8f9c08a5",
   "metadata": {},
   "outputs": [],
   "source": [
    "# Create the PPO trainer.\n",
    "trainer = PPOTrainer(\n",
    "    env=RLlibEnvWrapper,\n",
    "    config=trainer_config,\n",
    "    )"
   ]
  },
  {
   "cell_type": "code",
   "execution_count": null,
   "id": "30b07c25",
   "metadata": {},
   "outputs": [],
   "source": [
    "NUM_ITERS = 10\n",
    "for iteration in range(NUM_ITERS):\n",
    "    print(f'********** Iter : {iteration} **********')\n",
    "    result = trainer.train()\n",
    "    print(f'''episode_reward_mean: {result.get('episode_reward_mean')}''')"
   ]
  },
  {
   "cell_type": "code",
   "execution_count": null,
   "id": "7d87d22c",
   "metadata": {},
   "outputs": [],
   "source": [
    "env_obj.env.get_agent(3).state"
   ]
  },
  {
   "cell_type": "code",
   "execution_count": null,
   "id": "d7e6256f",
   "metadata": {},
   "outputs": [],
   "source": [
    "def generate_rollout_from_current_trainer_policy(\n",
    "    trainer, \n",
    "    env_obj,\n",
    "    num_dense_logs=1\n",
    "):\n",
    "    dense_logs = {}\n",
    "    for idx in range(num_dense_logs):\n",
    "        # Set initial states\n",
    "        agent_states = {}\n",
    "        for agent_idx in range(env_obj.env.n_agents):\n",
    "            agent_states[str(agent_idx)] = trainer.get_policy(\"a\").get_initial_state()\n",
    "        planner_states = trainer.get_policy(\"p\").get_initial_state()   \n",
    "\n",
    "        # Play out the episode\n",
    "        obs = env_obj.reset(force_dense_logging=True)\n",
    "        for t in range(env_obj.env.episode_length):\n",
    "            actions = {}\n",
    "            for agent_idx in range(env_obj.env.n_agents):\n",
    "                # Use the trainer object directly to sample actions for each agent\n",
    "                actions[str(agent_idx)] = trainer.compute_action(\n",
    "                    obs[str(agent_idx)], \n",
    "                    agent_states[str(agent_idx)], \n",
    "                    policy_id=\"a\",\n",
    "                    full_fetch=False\n",
    "                )\n",
    "\n",
    "            # Action sampling for the planner\n",
    "            actions[\"p\"] = trainer.compute_action(\n",
    "                obs['p'], \n",
    "                planner_states, \n",
    "                policy_id='p',\n",
    "                full_fetch=False\n",
    "            )\n",
    "\n",
    "            obs, rew, done, info = env_obj.step(actions)        \n",
    "            if done['__all__']:\n",
    "                break\n",
    "        dense_logs[idx] = env_obj.env.dense_log\n",
    "    return dense_logs"
   ]
  },
  {
   "cell_type": "code",
   "execution_count": null,
   "id": "b1fbc5f7",
   "metadata": {},
   "outputs": [],
   "source": [
    "dense_logs = generate_rollout_from_current_trainer_policy(\n",
    "    trainer, \n",
    "    env_obj,\n",
    "    num_dense_logs=1\n",
    ")"
   ]
  },
  {
   "cell_type": "code",
   "execution_count": null,
   "id": "d82a2faa",
   "metadata": {},
   "outputs": [],
   "source": [
    "dense_logs[0]['states'][0]"
   ]
  },
  {
   "cell_type": "code",
   "execution_count": null,
   "id": "63f072c0",
   "metadata": {},
   "outputs": [],
   "source": [
    "planner_gr_score_importances = [log[\"p\"][\"GreenScoreImportance\"] for log in dense_logs[0]['states']]"
   ]
  },
  {
   "cell_type": "code",
   "execution_count": null,
   "id": "c0c97727",
   "metadata": {},
   "outputs": [],
   "source": [
    "agent_0_green_scores = [log[\"0\"][\"endogenous\"][\"GreenScore\"] for log in dense_logs[0]['states']]\n",
    "agent_1_green_scores = [log[\"1\"][\"endogenous\"][\"GreenScore\"] for log in dense_logs[0]['states']]\n",
    "agent_2_green_scores = [log[\"2\"][\"endogenous\"][\"GreenScore\"] for log in dense_logs[0]['states']]\n",
    "agent_3_green_scores = [log[\"3\"][\"endogenous\"][\"GreenScore\"] for log in dense_logs[0]['states']]"
   ]
  },
  {
   "cell_type": "code",
   "execution_count": null,
   "id": "f7221a0a",
   "metadata": {},
   "outputs": [],
   "source": [
    "agent_0_rel_scores = [log[\"0\"][\"endogenous\"][\"ReliabilityScore\"] for log in dense_logs[0]['states']]\n",
    "agent_1_rel_scores = [log[\"1\"][\"endogenous\"][\"ReliabilityScore\"] for log in dense_logs[0]['states']]\n",
    "agent_2_rel_scores = [log[\"2\"][\"endogenous\"][\"ReliabilityScore\"] for log in dense_logs[0]['states']]\n",
    "agent_3_rel_scores = [log[\"3\"][\"endogenous\"][\"ReliabilityScore\"] for log in dense_logs[0]['states']]"
   ]
  },
  {
   "cell_type": "code",
   "execution_count": null,
   "id": "e339d422",
   "metadata": {},
   "outputs": [],
   "source": [
    "agent_0_data = [log[\"0\"][\"endogenous\"][\"TotalData\"] for log in dense_logs[0]['states']]\n",
    "agent_1_data = [log[\"1\"][\"endogenous\"][\"TotalData\"] for log in dense_logs[0]['states']]\n",
    "agent_2_data = [log[\"2\"][\"endogenous\"][\"TotalData\"] for log in dense_logs[0]['states']]\n",
    "agent_3_data = [log[\"3\"][\"endogenous\"][\"TotalData\"] for log in dense_logs[0]['states']]"
   ]
  },
  {
   "cell_type": "code",
   "execution_count": null,
   "id": "94152c35",
   "metadata": {},
   "outputs": [],
   "source": [
    "len(agent_0_green_scores)"
   ]
  },
  {
   "cell_type": "code",
   "execution_count": null,
   "id": "d092834f",
   "metadata": {},
   "outputs": [],
   "source": [
    "import matplotlib.pyplot as plt\n",
    "import numpy as np\n",
    "\n",
    "plt.plot(np.arange(0,1001),agent_0_green_scores, label=\"Agent 0\")\n",
    "plt.plot(np.arange(0,1001),agent_1_green_scores, label=\"Agent 1\")\n",
    "plt.plot(np.arange(0,1001),agent_2_green_scores, label=\"Agent 2\")\n",
    "plt.plot(np.arange(0,1001),agent_3_green_scores, label=\"Agent 3\")\n",
    "plt.title('Miner Green Scores')\n",
    "plt.legend()\n",
    "plt.xlabel('Timesteps')\n",
    "plt.ylabel('Green Scores')\n",
    "plt.savefig(\"miners_green_scores.png\")\n",
    "plt.show()"
   ]
  },
  {
   "cell_type": "code",
   "execution_count": null,
   "id": "385da864",
   "metadata": {},
   "outputs": [],
   "source": [
    "plt.plot(np.arange(0,1001),agent_0_rel_scores, label=\"Agent 0\")\n",
    "plt.plot(np.arange(0,1001),agent_1_rel_scores, label=\"Agent 1\")\n",
    "plt.plot(np.arange(0,1001),agent_2_rel_scores, label=\"Agent 2\")\n",
    "plt.plot(np.arange(0,1001),agent_3_rel_scores, label=\"Agent 3\")\n",
    "plt.title('Miner Reliability Scores')\n",
    "plt.legend()\n",
    "plt.xlabel('Timesteps')\n",
    "plt.ylabel('Reliability Scores')\n",
    "plt.savefig(\"miners_reliability_scores.png\")\n",
    "plt.show()"
   ]
  },
  {
   "cell_type": "code",
   "execution_count": null,
   "id": "44147fc8",
   "metadata": {},
   "outputs": [],
   "source": [
    "plt.plot(np.arange(0,1001),agent_0_data, label=\"Agent 0\")\n",
    "plt.plot(np.arange(0,1001),agent_1_data, label=\"Agent 1\")\n",
    "plt.plot(np.arange(0,1001),agent_2_data, label=\"Agent 2\")\n",
    "plt.plot(np.arange(0,1001),agent_3_data, label=\"Agent 3\")\n",
    "plt.title('Total Data Stored By Each Miner')\n",
    "plt.legend()\n",
    "plt.xlabel('Timesteps')\n",
    "plt.ylabel('Data Storage')\n",
    "plt.savefig(\"miners_data_stored.png\")\n",
    "plt.show()"
   ]
  },
  {
   "cell_type": "code",
   "execution_count": null,
   "id": "a0134317",
   "metadata": {},
   "outputs": [],
   "source": [
    "plt.plot(np.arange(0,1001),planner_gr_score_importances)\n",
    "plt.title('Green Score Importance over Time')\n",
    "plt.xlabel('Timesteps')\n",
    "plt.ylabel('Green Score Importance')\n",
    "plt.savefig(\"planner_policy.png\")\n",
    "plt.show()"
   ]
  },
  {
   "cell_type": "code",
   "execution_count": null,
   "id": "7b2e2c8e",
   "metadata": {},
   "outputs": [],
   "source": []
  },
  {
   "cell_type": "code",
   "execution_count": null,
   "id": "6ac30c44",
   "metadata": {},
   "outputs": [],
   "source": [
    "# Shutdown Ray after use\n",
    "ray.shutdown()"
   ]
  },
  {
   "cell_type": "code",
   "execution_count": null,
   "id": "1e4a8540",
   "metadata": {},
   "outputs": [],
   "source": []
  }
 ],
 "metadata": {
  "kernelspec": {
   "display_name": "Python 3 (ipykernel)",
   "language": "python",
   "name": "python3"
  },
  "language_info": {
   "codemirror_mode": {
    "name": "ipython",
    "version": 3
   },
   "file_extension": ".py",
   "mimetype": "text/x-python",
   "name": "python",
   "nbconvert_exporter": "python",
   "pygments_lexer": "ipython3",
   "version": "3.9.13"
  }
 },
 "nbformat": 4,
 "nbformat_minor": 5
}
