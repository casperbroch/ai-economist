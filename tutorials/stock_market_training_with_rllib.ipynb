{
 "cells": [
  {
   "cell_type": "code",
   "execution_count": null,
   "id": "adf8d989",
   "metadata": {},
   "outputs": [],
   "source": [
    "!pip install -e git+https://github.com/casperbroch/ai-economist@stockmarket#egg=ai-economist"
   ]
  },
  {
   "cell_type": "code",
   "execution_count": 1,
   "id": "618c9afa",
   "metadata": {},
   "outputs": [],
   "source": [
    "# Define the configuration of the environment that will be built\n",
    "\n",
    "env_config_dict = {\n",
    "    # ===== SCENARIO CLASS =====\n",
    "    # Which Scenario class to use: the class's name in the Scenario Registry (foundation.scenarios).\n",
    "    # The environment object will be an instance of the Scenario class.\n",
    "    'scenario_name': 'stock_market_simulation',\n",
    "    \n",
    "    # ===== COMPONENTS =====\n",
    "    # Which components to use (specified as list of (\"component_name\", {component_kwargs}) tuples).\n",
    "    #   \"component_name\" refers to the Component class's name in the Component Registry (foundation.components)\n",
    "    #   {component_kwargs} is a dictionary of kwargs passed to the Component class\n",
    "    # The order in which components reset, step, and generate obs follows their listed order below.\n",
    "    'components': [\n",
    "        # (1) Building houses\n",
    "        ('BuyOrSellStocks', {}),\n",
    "        # (2) Trading collectible resources\n",
    "        ('ExecCircuitBreaker', {}),\n",
    "    ],\n",
    "    \n",
    "\n",
    "    # ===== STANDARD ARGUMENTS ======\n",
    "    # kwargs that are used by every Scenario class (i.e. defined in BaseEnvironment)\n",
    "    'n_agents': 4,          # Number of non-planner agents (must be > 1)\n",
    "    'world_size': [1, 1], # [Height, Width] of the env world\n",
    "    'episode_length': 100, # Number of timesteps per episode\n",
    "    \n",
    "    # In multi-action-mode, the policy selects an action for each action subspace (defined in component code).\n",
    "    # Otherwise, the policy selects only 1 action.\n",
    "    'multi_action_mode_agents': False,\n",
    "    'multi_action_mode_planner': False,\n",
    "    \n",
    "    # When flattening observations, concatenate scalar & vector observations before output.\n",
    "    # Otherwise, return observations with minimal processing.\n",
    "    'flatten_observations': False,\n",
    "    # When Flattening masks, concatenate each action subspace mask into a single array.\n",
    "    # Note: flatten_masks = True is required for masking action logits in the code below.\n",
    "    'flatten_masks': True,\n",
    "}"
   ]
  },
  {
   "cell_type": "code",
   "execution_count": 2,
   "id": "029c36a0",
   "metadata": {},
   "outputs": [
    {
     "name": "stdout",
     "output_type": "stream",
     "text": [
      "Inside covid19_components.py: 0 GPUs are available.\n",
      "No GPUs found! Running the simulation on a CPU.\n",
      "Inside covid19_env.py: 0 GPUs are available.\n",
      "No GPUs found! Running the simulation on a CPU.\n",
      "[*********************100%***********************]  1 of 1 completed\n",
      "[*********************100%***********************]  1 of 1 completed\n"
     ]
    },
    {
     "name": "stderr",
     "output_type": "stream",
     "text": [
      "2024-05-01 14:01:41,570\tINFO util.py:154 -- Outdated packages:\n",
      "  ipywidgets==7.6.3 found, needs ipywidgets>=8\n",
      "Run `pip install -U ipywidgets`, then restart the notebook server for rich notebook output.\n",
      "2024-05-01 14:01:41,838\tINFO util.py:154 -- Outdated packages:\n",
      "  ipywidgets==7.6.3 found, needs ipywidgets>=8\n",
      "Run `pip install -U ipywidgets`, then restart the notebook server for rich notebook output.\n"
     ]
    },
    {
     "name": "stdout",
     "output_type": "stream",
     "text": [
      "[*********************100%***********************]  1 of 1 completed\n"
     ]
    },
    {
     "ename": "AttributeError",
     "evalue": "'NoneType' object has no attribute 'getprice'",
     "output_type": "error",
     "traceback": [
      "\u001b[1;31m---------------------------------------------------------------------------\u001b[0m",
      "\u001b[1;31mAttributeError\u001b[0m                            Traceback (most recent call last)",
      "\u001b[1;32m<ipython-input-2-12508959bd45>\u001b[0m in \u001b[0;36m<module>\u001b[1;34m\u001b[0m\n\u001b[0;32m      1\u001b[0m \u001b[1;32mfrom\u001b[0m \u001b[0mrllib\u001b[0m\u001b[1;33m.\u001b[0m\u001b[0menv_wrapper\u001b[0m \u001b[1;32mimport\u001b[0m \u001b[0mRLlibEnvWrapper\u001b[0m\u001b[1;33m\u001b[0m\u001b[1;33m\u001b[0m\u001b[0m\n\u001b[1;32m----> 2\u001b[1;33m \u001b[0menv_obj\u001b[0m \u001b[1;33m=\u001b[0m \u001b[0mRLlibEnvWrapper\u001b[0m\u001b[1;33m(\u001b[0m\u001b[1;33m{\u001b[0m\u001b[1;34m\"env_config_dict\"\u001b[0m\u001b[1;33m:\u001b[0m \u001b[0menv_config_dict\u001b[0m\u001b[1;33m}\u001b[0m\u001b[1;33m,\u001b[0m \u001b[0mverbose\u001b[0m\u001b[1;33m=\u001b[0m\u001b[1;32mTrue\u001b[0m\u001b[1;33m)\u001b[0m\u001b[1;33m\u001b[0m\u001b[1;33m\u001b[0m\u001b[0m\n\u001b[0m",
      "\u001b[1;32m~\\Documents\\GitHub Private\\ai-economist\\tutorials\\rllib\\env_wrapper.py\u001b[0m in \u001b[0;36m__init__\u001b[1;34m(self, env_config, verbose)\u001b[0m\n\u001b[0;32m     70\u001b[0m         \u001b[0mself\u001b[0m\u001b[1;33m.\u001b[0m\u001b[0msample_agent_idx\u001b[0m \u001b[1;33m=\u001b[0m \u001b[0mstr\u001b[0m\u001b[1;33m(\u001b[0m\u001b[0mself\u001b[0m\u001b[1;33m.\u001b[0m\u001b[0menv\u001b[0m\u001b[1;33m.\u001b[0m\u001b[0mall_agents\u001b[0m\u001b[1;33m[\u001b[0m\u001b[1;36m0\u001b[0m\u001b[1;33m]\u001b[0m\u001b[1;33m.\u001b[0m\u001b[0midx\u001b[0m\u001b[1;33m)\u001b[0m\u001b[1;33m\u001b[0m\u001b[1;33m\u001b[0m\u001b[0m\n\u001b[0;32m     71\u001b[0m \u001b[1;33m\u001b[0m\u001b[0m\n\u001b[1;32m---> 72\u001b[1;33m         \u001b[0mobs\u001b[0m \u001b[1;33m=\u001b[0m \u001b[0mself\u001b[0m\u001b[1;33m.\u001b[0m\u001b[0menv\u001b[0m\u001b[1;33m.\u001b[0m\u001b[0mreset\u001b[0m\u001b[1;33m(\u001b[0m\u001b[1;33m)\u001b[0m\u001b[1;33m\u001b[0m\u001b[1;33m\u001b[0m\u001b[0m\n\u001b[0m\u001b[0;32m     73\u001b[0m \u001b[1;33m\u001b[0m\u001b[0m\n\u001b[0;32m     74\u001b[0m         \u001b[0mself\u001b[0m\u001b[1;33m.\u001b[0m\u001b[0mobservation_space\u001b[0m \u001b[1;33m=\u001b[0m \u001b[0mself\u001b[0m\u001b[1;33m.\u001b[0m\u001b[0m_dict_to_spaces_dict\u001b[0m\u001b[1;33m(\u001b[0m\u001b[0mobs\u001b[0m\u001b[1;33m[\u001b[0m\u001b[1;34m\"0\"\u001b[0m\u001b[1;33m]\u001b[0m\u001b[1;33m)\u001b[0m\u001b[1;33m\u001b[0m\u001b[1;33m\u001b[0m\u001b[0m\n",
      "\u001b[1;32mc:\\users\\caspe\\documents\\github private\\ai-economist\\tutorials\\src\\ai-economist\\ai_economist\\foundation\\base\\base_env.py\u001b[0m in \u001b[0;36mreset\u001b[1;34m(self, seed_state, force_dense_logging)\u001b[0m\n\u001b[0;32m    902\u001b[0m         \u001b[1;31m# which includes resetting the world and agent states\u001b[0m\u001b[1;33m\u001b[0m\u001b[1;33m\u001b[0m\u001b[0m\n\u001b[0;32m    903\u001b[0m         \u001b[0mself\u001b[0m\u001b[1;33m.\u001b[0m\u001b[0mreset_starting_layout\u001b[0m\u001b[1;33m(\u001b[0m\u001b[1;33m)\u001b[0m\u001b[1;33m\u001b[0m\u001b[1;33m\u001b[0m\u001b[0m\n\u001b[1;32m--> 904\u001b[1;33m         \u001b[0mself\u001b[0m\u001b[1;33m.\u001b[0m\u001b[0mreset_agent_states\u001b[0m\u001b[1;33m(\u001b[0m\u001b[1;33m)\u001b[0m\u001b[1;33m\u001b[0m\u001b[1;33m\u001b[0m\u001b[0m\n\u001b[0m\u001b[0;32m    905\u001b[0m \u001b[1;33m\u001b[0m\u001b[0m\n\u001b[0;32m    906\u001b[0m         \u001b[1;31m# Perform the component resets for each registered component\u001b[0m\u001b[1;33m\u001b[0m\u001b[1;33m\u001b[0m\u001b[0m\n",
      "\u001b[1;32mc:\\users\\caspe\\documents\\github private\\ai-economist\\tutorials\\src\\ai-economist\\ai_economist\\foundation\\scenarios\\stock_market_simulation\\stock_market_simulation.py\u001b[0m in \u001b[0;36mreset_agent_states\u001b[1;34m(self)\u001b[0m\n\u001b[0;32m     65\u001b[0m             \u001b[0magent\u001b[0m\u001b[1;33m.\u001b[0m\u001b[0mstate\u001b[0m\u001b[1;33m[\u001b[0m\u001b[1;34m\"endogenous\"\u001b[0m\u001b[1;33m]\u001b[0m\u001b[1;33m[\u001b[0m\u001b[1;34m\"TotalBalance\"\u001b[0m\u001b[1;33m]\u001b[0m \u001b[1;33m=\u001b[0m \u001b[0mstarting_funds\u001b[0m\u001b[1;33m\u001b[0m\u001b[1;33m\u001b[0m\u001b[0m\n\u001b[0;32m     66\u001b[0m \u001b[1;33m\u001b[0m\u001b[0m\n\u001b[1;32m---> 67\u001b[1;33m             \u001b[0magent\u001b[0m\u001b[1;33m.\u001b[0m\u001b[0mstate\u001b[0m\u001b[1;33m[\u001b[0m\u001b[1;34m\"endogenous\"\u001b[0m\u001b[1;33m]\u001b[0m\u001b[1;33m[\u001b[0m\u001b[1;34m\"StockPrice\"\u001b[0m\u001b[1;33m]\u001b[0m \u001b[1;33m=\u001b[0m \u001b[0mself\u001b[0m\u001b[1;33m.\u001b[0m\u001b[0mmarket\u001b[0m\u001b[1;33m.\u001b[0m\u001b[0mgetprice\u001b[0m\u001b[1;33m(\u001b[0m\u001b[1;33m)\u001b[0m\u001b[1;33m\u001b[0m\u001b[1;33m\u001b[0m\u001b[0m\n\u001b[0m\u001b[0;32m     68\u001b[0m             \u001b[0magent\u001b[0m\u001b[1;33m.\u001b[0m\u001b[0mstate\u001b[0m\u001b[1;33m[\u001b[0m\u001b[1;34m\"endogenous\"\u001b[0m\u001b[1;33m]\u001b[0m\u001b[1;33m[\u001b[0m\u001b[1;34m\"StockPriceHistory\"\u001b[0m\u001b[1;33m]\u001b[0m \u001b[1;33m=\u001b[0m \u001b[0mnp\u001b[0m\u001b[1;33m.\u001b[0m\u001b[0marray\u001b[0m\u001b[1;33m(\u001b[0m\u001b[1;33m[\u001b[0m\u001b[0mself\u001b[0m\u001b[1;33m.\u001b[0m\u001b[0mmarket\u001b[0m\u001b[1;33m.\u001b[0m\u001b[0mgetprice\u001b[0m\u001b[1;33m(\u001b[0m\u001b[1;33m)\u001b[0m\u001b[1;33m]\u001b[0m\u001b[1;33m)\u001b[0m\u001b[1;33m\u001b[0m\u001b[1;33m\u001b[0m\u001b[0m\n\u001b[0;32m     69\u001b[0m             \u001b[0magent\u001b[0m\u001b[1;33m.\u001b[0m\u001b[0mstate\u001b[0m\u001b[1;33m[\u001b[0m\u001b[1;34m\"endogenous\"\u001b[0m\u001b[1;33m]\u001b[0m\u001b[1;33m[\u001b[0m\u001b[1;34m\"Volumes\"\u001b[0m\u001b[1;33m]\u001b[0m \u001b[1;33m=\u001b[0m \u001b[0mnp\u001b[0m\u001b[1;33m.\u001b[0m\u001b[0marray\u001b[0m\u001b[1;33m(\u001b[0m\u001b[1;33m[\u001b[0m\u001b[1;36m0\u001b[0m\u001b[1;33m]\u001b[0m\u001b[1;33m)\u001b[0m\u001b[1;33m\u001b[0m\u001b[1;33m\u001b[0m\u001b[0m\n",
      "\u001b[1;31mAttributeError\u001b[0m: 'NoneType' object has no attribute 'getprice'"
     ]
    }
   ],
   "source": [
    "from rllib.env_wrapper import RLlibEnvWrapper\n",
    "env_obj = RLlibEnvWrapper({\"env_config_dict\": env_config_dict}, verbose=True)"
   ]
  },
  {
   "cell_type": "code",
   "execution_count": null,
   "id": "fe751b55",
   "metadata": {},
   "outputs": [],
   "source": [
    "import ray\n",
    "from ray.rllib.agents.ppo import PPOTrainer"
   ]
  },
  {
   "cell_type": "code",
   "execution_count": null,
   "id": "9a826ce0",
   "metadata": {},
   "outputs": [],
   "source": [
    "policies = {\n",
    "    \"a\": (\n",
    "        None,  # uses default policy\n",
    "        env_obj.observation_space,\n",
    "        env_obj.action_space,\n",
    "        {}  # define a custom agent policy configuration.\n",
    "    ),\n",
    "    \"p\": (\n",
    "        None,  # uses default policy\n",
    "        env_obj.observation_space_pl,\n",
    "        env_obj.action_space_pl,\n",
    "        {}  # define a custom planner policy configuration.\n",
    "    )\n",
    "}\n",
    "\n",
    "# In foundation, all the agents have integer ids and the social planner has an id of \"p\"\n",
    "policy_mapping_fun = lambda i: \"a\" if str(i).isdigit() else \"p\"\n",
    "\n",
    "policies_to_train = [\"a\", \"p\"]"
   ]
  },
  {
   "cell_type": "code",
   "execution_count": null,
   "id": "64331642",
   "metadata": {},
   "outputs": [],
   "source": [
    "trainer_config = {\n",
    "    \"multiagent\": {\n",
    "        \"policies\": policies,\n",
    "        \"policies_to_train\": policies_to_train,\n",
    "        \"policy_mapping_fn\": policy_mapping_fun,\n",
    "    }\n",
    "}"
   ]
  },
  {
   "cell_type": "code",
   "execution_count": null,
   "id": "f2476f35",
   "metadata": {},
   "outputs": [],
   "source": [
    "trainer_config.update(\n",
    "    {\n",
    "        \"num_workers\": 2,\n",
    "        \"num_envs_per_worker\": 2,\n",
    "        # Other training parameters\n",
    "        \"train_batch_size\":  4000,\n",
    "        \"sgd_minibatch_size\": 4000,\n",
    "        \"num_sgd_iter\": 1\n",
    "    }\n",
    ")"
   ]
  },
  {
   "cell_type": "code",
   "execution_count": null,
   "id": "33e6c665",
   "metadata": {},
   "outputs": [],
   "source": [
    "# We also add the \"num_envs_per_worker\" parameter for the env. wrapper to index the environments.\n",
    "env_config = {\n",
    "    \"env_config_dict\": env_config_dict,\n",
    "    \"num_envs_per_worker\": trainer_config.get('num_envs_per_worker'),   \n",
    "}\n",
    "\n",
    "trainer_config.update(\n",
    "    {\n",
    "        \"env_config\": env_config        \n",
    "    }\n",
    ")"
   ]
  },
  {
   "cell_type": "code",
   "execution_count": null,
   "id": "cf127879",
   "metadata": {},
   "outputs": [],
   "source": [
    "# Initialize Ray\n",
    "ray.init(webui_host=\"127.0.0.1\")"
   ]
  },
  {
   "cell_type": "code",
   "execution_count": null,
   "id": "8f9c08a5",
   "metadata": {},
   "outputs": [],
   "source": [
    "# Create the PPO trainer.\n",
    "trainer = PPOTrainer(\n",
    "    env=RLlibEnvWrapper,\n",
    "    config=trainer_config,\n",
    "    )"
   ]
  },
  {
   "cell_type": "code",
   "execution_count": null,
   "id": "30b07c25",
   "metadata": {},
   "outputs": [],
   "source": [
    "NUM_ITERS = 10\n",
    "for iteration in range(NUM_ITERS):\n",
    "    print(f'********** Iter : {iteration} **********')\n",
    "    result = trainer.train()\n",
    "    print(f'''episode_reward_mean: {result.get('episode_reward_mean')}''')"
   ]
  },
  {
   "cell_type": "code",
   "execution_count": null,
   "id": "7d87d22c",
   "metadata": {},
   "outputs": [],
   "source": [
    "env_obj.env.get_agent(3).state"
   ]
  },
  {
   "cell_type": "code",
   "execution_count": null,
   "id": "d7e6256f",
   "metadata": {},
   "outputs": [],
   "source": [
    "def generate_rollout_from_current_trainer_policy(\n",
    "    trainer, \n",
    "    env_obj,\n",
    "    num_dense_logs=1\n",
    "):\n",
    "    dense_logs = {}\n",
    "    for idx in range(num_dense_logs):\n",
    "        # Set initial states\n",
    "        agent_states = {}\n",
    "        for agent_idx in range(env_obj.env.n_agents):\n",
    "            agent_states[str(agent_idx)] = trainer.get_policy(\"a\").get_initial_state()\n",
    "        planner_states = trainer.get_policy(\"p\").get_initial_state()   \n",
    "\n",
    "        # Play out the episode\n",
    "        obs = env_obj.reset(force_dense_logging=True)\n",
    "        for t in range(env_obj.env.episode_length):\n",
    "            actions = {}\n",
    "            for agent_idx in range(env_obj.env.n_agents):\n",
    "                # Use the trainer object directly to sample actions for each agent\n",
    "                actions[str(agent_idx)] = trainer.compute_action(\n",
    "                    obs[str(agent_idx)], \n",
    "                    agent_states[str(agent_idx)], \n",
    "                    policy_id=\"a\",\n",
    "                    full_fetch=False\n",
    "                )\n",
    "\n",
    "            # Action sampling for the planner\n",
    "            actions[\"p\"] = trainer.compute_action(\n",
    "                obs['p'], \n",
    "                planner_states, \n",
    "                policy_id='p',\n",
    "                full_fetch=False\n",
    "            )\n",
    "\n",
    "            obs, rew, done, info = env_obj.step(actions)        \n",
    "            if done['__all__']:\n",
    "                break\n",
    "        dense_logs[idx] = env_obj.env.dense_log\n",
    "    return dense_logs"
   ]
  },
  {
   "cell_type": "code",
   "execution_count": null,
   "id": "b1fbc5f7",
   "metadata": {},
   "outputs": [],
   "source": [
    "dense_logs = generate_rollout_from_current_trainer_policy(\n",
    "    trainer, \n",
    "    env_obj,\n",
    "    num_dense_logs=1\n",
    ")"
   ]
  },
  {
   "cell_type": "code",
   "execution_count": null,
   "id": "d82a2faa",
   "metadata": {},
   "outputs": [],
   "source": [
    "dense_logs[0]['states'][0]"
   ]
  },
  {
   "cell_type": "code",
   "execution_count": null,
   "id": "63f072c0",
   "metadata": {},
   "outputs": [],
   "source": [
    "planner_gr_score_importances = [log[\"p\"][\"GreenScoreImportance\"] for log in dense_logs[0]['states']]"
   ]
  },
  {
   "cell_type": "code",
   "execution_count": null,
   "id": "c0c97727",
   "metadata": {},
   "outputs": [],
   "source": [
    "agent_0_green_scores = [log[\"0\"][\"endogenous\"][\"GreenScore\"] for log in dense_logs[0]['states']]\n",
    "agent_1_green_scores = [log[\"1\"][\"endogenous\"][\"GreenScore\"] for log in dense_logs[0]['states']]\n",
    "agent_2_green_scores = [log[\"2\"][\"endogenous\"][\"GreenScore\"] for log in dense_logs[0]['states']]\n",
    "agent_3_green_scores = [log[\"3\"][\"endogenous\"][\"GreenScore\"] for log in dense_logs[0]['states']]"
   ]
  },
  {
   "cell_type": "code",
   "execution_count": null,
   "id": "f7221a0a",
   "metadata": {},
   "outputs": [],
   "source": [
    "agent_0_rel_scores = [log[\"0\"][\"endogenous\"][\"ReliabilityScore\"] for log in dense_logs[0]['states']]\n",
    "agent_1_rel_scores = [log[\"1\"][\"endogenous\"][\"ReliabilityScore\"] for log in dense_logs[0]['states']]\n",
    "agent_2_rel_scores = [log[\"2\"][\"endogenous\"][\"ReliabilityScore\"] for log in dense_logs[0]['states']]\n",
    "agent_3_rel_scores = [log[\"3\"][\"endogenous\"][\"ReliabilityScore\"] for log in dense_logs[0]['states']]"
   ]
  },
  {
   "cell_type": "code",
   "execution_count": null,
   "id": "e339d422",
   "metadata": {},
   "outputs": [],
   "source": [
    "agent_0_data = [log[\"0\"][\"endogenous\"][\"TotalData\"] for log in dense_logs[0]['states']]\n",
    "agent_1_data = [log[\"1\"][\"endogenous\"][\"TotalData\"] for log in dense_logs[0]['states']]\n",
    "agent_2_data = [log[\"2\"][\"endogenous\"][\"TotalData\"] for log in dense_logs[0]['states']]\n",
    "agent_3_data = [log[\"3\"][\"endogenous\"][\"TotalData\"] for log in dense_logs[0]['states']]"
   ]
  },
  {
   "cell_type": "code",
   "execution_count": null,
   "id": "94152c35",
   "metadata": {},
   "outputs": [],
   "source": [
    "len(agent_0_green_scores)"
   ]
  },
  {
   "cell_type": "code",
   "execution_count": null,
   "id": "d092834f",
   "metadata": {},
   "outputs": [],
   "source": [
    "import matplotlib.pyplot as plt\n",
    "import numpy as np\n",
    "\n",
    "plt.plot(np.arange(0,1001),agent_0_green_scores, label=\"Agent 0\")\n",
    "plt.plot(np.arange(0,1001),agent_1_green_scores, label=\"Agent 1\")\n",
    "plt.plot(np.arange(0,1001),agent_2_green_scores, label=\"Agent 2\")\n",
    "plt.plot(np.arange(0,1001),agent_3_green_scores, label=\"Agent 3\")\n",
    "plt.title('Miner Green Scores')\n",
    "plt.legend()\n",
    "plt.xlabel('Timesteps')\n",
    "plt.ylabel('Green Scores')\n",
    "plt.savefig(\"miners_green_scores.png\")\n",
    "plt.show()"
   ]
  },
  {
   "cell_type": "code",
   "execution_count": null,
   "id": "385da864",
   "metadata": {},
   "outputs": [],
   "source": [
    "plt.plot(np.arange(0,1001),agent_0_rel_scores, label=\"Agent 0\")\n",
    "plt.plot(np.arange(0,1001),agent_1_rel_scores, label=\"Agent 1\")\n",
    "plt.plot(np.arange(0,1001),agent_2_rel_scores, label=\"Agent 2\")\n",
    "plt.plot(np.arange(0,1001),agent_3_rel_scores, label=\"Agent 3\")\n",
    "plt.title('Miner Reliability Scores')\n",
    "plt.legend()\n",
    "plt.xlabel('Timesteps')\n",
    "plt.ylabel('Reliability Scores')\n",
    "plt.savefig(\"miners_reliability_scores.png\")\n",
    "plt.show()"
   ]
  },
  {
   "cell_type": "code",
   "execution_count": null,
   "id": "44147fc8",
   "metadata": {},
   "outputs": [],
   "source": [
    "plt.plot(np.arange(0,1001),agent_0_data, label=\"Agent 0\")\n",
    "plt.plot(np.arange(0,1001),agent_1_data, label=\"Agent 1\")\n",
    "plt.plot(np.arange(0,1001),agent_2_data, label=\"Agent 2\")\n",
    "plt.plot(np.arange(0,1001),agent_3_data, label=\"Agent 3\")\n",
    "plt.title('Total Data Stored By Each Miner')\n",
    "plt.legend()\n",
    "plt.xlabel('Timesteps')\n",
    "plt.ylabel('Data Storage')\n",
    "plt.savefig(\"miners_data_stored.png\")\n",
    "plt.show()"
   ]
  },
  {
   "cell_type": "code",
   "execution_count": null,
   "id": "a0134317",
   "metadata": {},
   "outputs": [],
   "source": [
    "plt.plot(np.arange(0,1001),planner_gr_score_importances)\n",
    "plt.title('Green Score Importance over Time')\n",
    "plt.xlabel('Timesteps')\n",
    "plt.ylabel('Green Score Importance')\n",
    "plt.savefig(\"planner_policy.png\")\n",
    "plt.show()"
   ]
  },
  {
   "cell_type": "code",
   "execution_count": null,
   "id": "7b2e2c8e",
   "metadata": {},
   "outputs": [],
   "source": []
  },
  {
   "cell_type": "code",
   "execution_count": null,
   "id": "6ac30c44",
   "metadata": {},
   "outputs": [],
   "source": [
    "# Shutdown Ray after use\n",
    "ray.shutdown()"
   ]
  },
  {
   "cell_type": "code",
   "execution_count": null,
   "id": "1e4a8540",
   "metadata": {},
   "outputs": [],
   "source": []
  }
 ],
 "metadata": {
  "kernelspec": {
   "display_name": "Python 3 (ipykernel)",
   "language": "python",
   "name": "python3"
  },
  "language_info": {
   "codemirror_mode": {
    "name": "ipython",
    "version": 3
   },
   "file_extension": ".py",
   "mimetype": "text/x-python",
   "name": "python",
   "nbconvert_exporter": "python",
   "pygments_lexer": "ipython3",
   "version": "3.9.13"
  }
 },
 "nbformat": 4,
 "nbformat_minor": 5
}
