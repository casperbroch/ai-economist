{
 "cells": [
  {
   "cell_type": "code",
   "execution_count": 3,
   "id": "e7badb93",
   "metadata": {},
   "outputs": [
    {
     "name": "stdout",
     "output_type": "stream",
     "text": [
      "Obtaining ai-economist from git+https://github.com/casperbroch/ai-economist@stockmarket#egg=ai-economist\n",
      "  Updating c:\\users\\caspe\\documents\\github private\\ai-economist\\tutorials\\src\\ai-economist clone (to revision stockmarket)\n",
      "  Preparing metadata (setup.py): started\n",
      "  Preparing metadata (setup.py): finished with status 'done'\n",
      "Requirement already satisfied: appdirs==1.4.4 in c:\\users\\caspe\\anaconda3\\lib\\site-packages (from ai-economist) (1.4.4)\n",
      "Requirement already satisfied: appnope==0.1.2 in c:\\users\\caspe\\anaconda3\\lib\\site-packages (from ai-economist) (0.1.2)\n",
      "Requirement already satisfied: argon2-cffi==20.1.0 in c:\\users\\caspe\\appdata\\roaming\\python\\python39\\site-packages (from ai-economist) (20.1.0)\n",
      "Requirement already satisfied: astroid==2.5.6 in c:\\users\\caspe\\appdata\\roaming\\python\\python39\\site-packages (from ai-economist) (2.5.6)\n",
      "Requirement already satisfied: async-generator==1.10 in c:\\users\\caspe\\appdata\\roaming\\python\\python39\\site-packages (from ai-economist) (1.10)\n",
      "Requirement already satisfied: attrs==21.2.0 in c:\\users\\caspe\\appdata\\roaming\\python\\python39\\site-packages (from ai-economist) (21.2.0)\n",
      "Requirement already satisfied: backcall==0.2.0 in c:\\users\\caspe\\anaconda3\\lib\\site-packages (from ai-economist) (0.2.0)\n",
      "Requirement already satisfied: beautifulsoup4==4.9.3 in c:\\users\\caspe\\appdata\\roaming\\python\\python39\\site-packages (from ai-economist) (4.9.3)\n",
      "Requirement already satisfied: black==21.5b1 in c:\\users\\caspe\\appdata\\roaming\\python\\python39\\site-packages (from ai-economist) (21.5b1)\n",
      "Requirement already satisfied: bleach==3.3.0 in c:\\users\\caspe\\appdata\\roaming\\python\\python39\\site-packages (from ai-economist) (3.3.0)\n",
      "Requirement already satisfied: bs4==0.0.1 in c:\\users\\caspe\\appdata\\roaming\\python\\python39\\site-packages (from ai-economist) (0.0.1)\n",
      "Requirement already satisfied: certifi==2020.12.5 in c:\\users\\caspe\\anaconda3\\lib\\site-packages (from ai-economist) (2020.12.5)\n",
      "Requirement already satisfied: cffi==1.14.5 in c:\\users\\caspe\\appdata\\roaming\\python\\python39\\site-packages (from ai-economist) (1.14.5)\n",
      "Requirement already satisfied: chardet==4.0.0 in c:\\users\\caspe\\anaconda3\\lib\\site-packages (from ai-economist) (4.0.0)\n",
      "Requirement already satisfied: click==8.0.1 in c:\\users\\caspe\\appdata\\roaming\\python\\python39\\site-packages (from ai-economist) (8.0.1)\n",
      "Requirement already satisfied: cycler==0.10.0 in c:\\users\\caspe\\appdata\\roaming\\python\\python39\\site-packages (from ai-economist) (0.10.0)\n",
      "Requirement already satisfied: decorator==5.0.9 in c:\\users\\caspe\\appdata\\roaming\\python\\python39\\site-packages (from ai-economist) (5.0.9)\n",
      "Requirement already satisfied: defusedxml==0.7.1 in c:\\users\\caspe\\anaconda3\\lib\\site-packages (from ai-economist) (0.7.1)\n",
      "Requirement already satisfied: entrypoints==0.3 in c:\\users\\caspe\\appdata\\roaming\\python\\python39\\site-packages (from ai-economist) (0.3)\n",
      "Requirement already satisfied: et-xmlfile==1.1.0 in c:\\users\\caspe\\anaconda3\\lib\\site-packages (from ai-economist) (1.1.0)\n",
      "Requirement already satisfied: flake8==3.9.2 in c:\\users\\caspe\\appdata\\roaming\\python\\python39\\site-packages (from ai-economist) (3.9.2)\n",
      "Requirement already satisfied: GPUtil==1.4.0 in c:\\users\\caspe\\anaconda3\\lib\\site-packages (from ai-economist) (1.4.0)\n"
     ]
    },
    {
     "name": "stderr",
     "output_type": "stream",
     "text": [
      "  Running command git fetch -q --tags\n",
      "  Running command git reset --hard -q 1731c4ac2c2ba27f84defb64a7d6616e3cde2986\n",
      "  Running command git submodule update --init --recursive -q\n"
     ]
    },
    {
     "name": "stdout",
     "output_type": "stream",
     "text": [
      "Requirement already satisfied: idna==2.10 in c:\\users\\caspe\\appdata\\roaming\\python\\python39\\site-packages (from ai-economist) (2.10)\n",
      "Requirement already satisfied: iniconfig==1.1.1 in c:\\users\\caspe\\anaconda3\\lib\\site-packages (from ai-economist) (1.1.1)\n",
      "Requirement already satisfied: ipykernel==5.5.5 in c:\\users\\caspe\\appdata\\roaming\\python\\python39\\site-packages (from ai-economist) (5.5.5)\n",
      "Requirement already satisfied: ipython==7.31.1 in c:\\users\\caspe\\anaconda3\\lib\\site-packages (from ai-economist) (7.31.1)\n",
      "Requirement already satisfied: ipython-genutils==0.2.0 in c:\\users\\caspe\\anaconda3\\lib\\site-packages (from ai-economist) (0.2.0)\n",
      "Requirement already satisfied: ipywidgets==7.6.3 in c:\\users\\caspe\\appdata\\roaming\\python\\python39\\site-packages (from ai-economist) (7.6.3)\n",
      "Requirement already satisfied: isort==5.8.0 in c:\\users\\caspe\\appdata\\roaming\\python\\python39\\site-packages (from ai-economist) (5.8.0)\n",
      "Requirement already satisfied: jedi==0.18.0 in c:\\users\\caspe\\appdata\\roaming\\python\\python39\\site-packages (from ai-economist) (0.18.0)\n",
      "Requirement already satisfied: Jinja2==3.0.1 in c:\\users\\caspe\\appdata\\roaming\\python\\python39\\site-packages (from ai-economist) (3.0.1)\n",
      "Requirement already satisfied: jsonschema==3.2.0 in c:\\users\\caspe\\appdata\\roaming\\python\\python39\\site-packages (from ai-economist) (3.2.0)\n",
      "Requirement already satisfied: jupyter==1.0.0 in c:\\users\\caspe\\anaconda3\\lib\\site-packages (from ai-economist) (1.0.0)\n",
      "Requirement already satisfied: jupyter-client==6.1.12 in c:\\users\\caspe\\appdata\\roaming\\python\\python39\\site-packages (from ai-economist) (6.1.12)\n",
      "Requirement already satisfied: jupyter-console==6.4.0 in c:\\users\\caspe\\appdata\\roaming\\python\\python39\\site-packages (from ai-economist) (6.4.0)\n",
      "Requirement already satisfied: jupyter-core==4.7.1 in c:\\users\\caspe\\appdata\\roaming\\python\\python39\\site-packages (from ai-economist) (4.7.1)\n",
      "Requirement already satisfied: jupyterlab-pygments==0.1.2 in c:\\users\\caspe\\anaconda3\\lib\\site-packages (from ai-economist) (0.1.2)\n",
      "Requirement already satisfied: jupyterlab-widgets==1.0.0 in c:\\users\\caspe\\anaconda3\\lib\\site-packages (from ai-economist) (1.0.0)\n",
      "Requirement already satisfied: kiwisolver==1.3.1 in c:\\users\\caspe\\appdata\\roaming\\python\\python39\\site-packages (from ai-economist) (1.3.1)\n",
      "Requirement already satisfied: lazy-object-proxy==1.6.0 in c:\\users\\caspe\\anaconda3\\lib\\site-packages (from ai-economist) (1.6.0)\n",
      "Requirement already satisfied: lz4==3.1.3 in c:\\users\\caspe\\anaconda3\\lib\\site-packages (from ai-economist) (3.1.3)\n",
      "Requirement already satisfied: MarkupSafe==2.0.1 in c:\\users\\caspe\\anaconda3\\lib\\site-packages (from ai-economist) (2.0.1)\n",
      "Requirement already satisfied: matplotlib==3.2.1 in c:\\users\\caspe\\appdata\\roaming\\python\\python39\\site-packages (from ai-economist) (3.2.1)\n",
      "Requirement already satisfied: matplotlib-inline==0.1.2 in c:\\users\\caspe\\appdata\\roaming\\python\\python39\\site-packages (from ai-economist) (0.1.2)\n",
      "Requirement already satisfied: mccabe==0.6.1 in c:\\users\\caspe\\anaconda3\\lib\\site-packages (from ai-economist) (0.6.1)\n",
      "Requirement already satisfied: mistune==0.8.4 in c:\\users\\caspe\\anaconda3\\lib\\site-packages (from ai-economist) (0.8.4)\n",
      "Requirement already satisfied: mypy-extensions==0.4.3 in c:\\users\\caspe\\anaconda3\\lib\\site-packages (from ai-economist) (0.4.3)\n",
      "Requirement already satisfied: nbclient==0.5.3 in c:\\users\\caspe\\appdata\\roaming\\python\\python39\\site-packages (from ai-economist) (0.5.3)\n",
      "Requirement already satisfied: nbconvert==6.0.7 in c:\\users\\caspe\\appdata\\roaming\\python\\python39\\site-packages (from ai-economist) (6.0.7)\n",
      "Requirement already satisfied: nbformat==5.1.3 in c:\\users\\caspe\\appdata\\roaming\\python\\python39\\site-packages (from ai-economist) (5.1.3)\n",
      "Requirement already satisfied: nest-asyncio==1.5.1 in c:\\users\\caspe\\appdata\\roaming\\python\\python39\\site-packages (from ai-economist) (1.5.1)\n",
      "Requirement already satisfied: notebook==6.4.1 in c:\\users\\caspe\\appdata\\roaming\\python\\python39\\site-packages (from ai-economist) (6.4.1)\n",
      "Requirement already satisfied: numpy==1.21.0 in c:\\users\\caspe\\appdata\\roaming\\python\\python39\\site-packages (from ai-economist) (1.21.0)\n",
      "Requirement already satisfied: openpyxl==3.0.7 in c:\\users\\caspe\\appdata\\roaming\\python\\python39\\site-packages (from ai-economist) (3.0.7)\n",
      "Requirement already satisfied: packaging==20.9 in c:\\users\\caspe\\appdata\\roaming\\python\\python39\\site-packages (from ai-economist) (20.9)\n",
      "Requirement already satisfied: pandas==1.2.4 in c:\\users\\caspe\\appdata\\roaming\\python\\python39\\site-packages (from ai-economist) (1.2.4)\n",
      "Requirement already satisfied: pandocfilters==1.4.3 in c:\\users\\caspe\\appdata\\roaming\\python\\python39\\site-packages (from ai-economist) (1.4.3)\n",
      "Requirement already satisfied: parso==0.8.2 in c:\\users\\caspe\\appdata\\roaming\\python\\python39\\site-packages (from ai-economist) (0.8.2)\n",
      "Requirement already satisfied: pathspec==0.8.1 in c:\\users\\caspe\\appdata\\roaming\\python\\python39\\site-packages (from ai-economist) (0.8.1)\n",
      "Requirement already satisfied: pexpect==4.8.0 in c:\\users\\caspe\\anaconda3\\lib\\site-packages (from ai-economist) (4.8.0)\n",
      "Requirement already satisfied: pickleshare==0.7.5 in c:\\users\\caspe\\anaconda3\\lib\\site-packages (from ai-economist) (0.7.5)\n",
      "Requirement already satisfied: Pillow==9.0.1 in c:\\users\\caspe\\anaconda3\\lib\\site-packages (from ai-economist) (9.0.1)\n",
      "Requirement already satisfied: pluggy==0.13.1 in c:\\users\\caspe\\appdata\\roaming\\python\\python39\\site-packages (from ai-economist) (0.13.1)\n",
      "Requirement already satisfied: prometheus-client==0.10.1 in c:\\users\\caspe\\appdata\\roaming\\python\\python39\\site-packages (from ai-economist) (0.10.1)\n",
      "Requirement already satisfied: prompt-toolkit==3.0.18 in c:\\users\\caspe\\appdata\\roaming\\python\\python39\\site-packages (from ai-economist) (3.0.18)\n",
      "Requirement already satisfied: ptyprocess==0.7.0 in c:\\users\\caspe\\anaconda3\\lib\\site-packages (from ai-economist) (0.7.0)\n",
      "Requirement already satisfied: py==1.10.0 in c:\\users\\caspe\\appdata\\roaming\\python\\python39\\site-packages (from ai-economist) (1.10.0)\n",
      "Requirement already satisfied: pycodestyle==2.7.0 in c:\\users\\caspe\\appdata\\roaming\\python\\python39\\site-packages (from ai-economist) (2.7.0)\n",
      "Requirement already satisfied: pycparser==2.20 in c:\\users\\caspe\\appdata\\roaming\\python\\python39\\site-packages (from ai-economist) (2.20)\n",
      "Requirement already satisfied: pycryptodome==3.10.1 in c:\\users\\caspe\\appdata\\roaming\\python\\python39\\site-packages (from ai-economist) (3.10.1)\n",
      "Requirement already satisfied: pyflakes==2.3.1 in c:\\users\\caspe\\appdata\\roaming\\python\\python39\\site-packages (from ai-economist) (2.3.1)\n",
      "Requirement already satisfied: Pygments==2.9.0 in c:\\users\\caspe\\anaconda3\\lib\\site-packages (from ai-economist) (2.9.0)\n",
      "Requirement already satisfied: pylint==2.8.2 in c:\\users\\caspe\\appdata\\roaming\\python\\python39\\site-packages (from ai-economist) (2.8.2)\n",
      "Requirement already satisfied: pyparsing==2.4.7 in c:\\users\\caspe\\appdata\\roaming\\python\\python39\\site-packages (from ai-economist) (2.4.7)\n",
      "Requirement already satisfied: pyrsistent==0.17.3 in c:\\users\\caspe\\appdata\\roaming\\python\\python39\\site-packages (from ai-economist) (0.17.3)\n",
      "Requirement already satisfied: pytest==6.2.4 in c:\\users\\caspe\\appdata\\roaming\\python\\python39\\site-packages (from ai-economist) (6.2.4)\n",
      "Requirement already satisfied: python-dateutil==2.8.1 in c:\\users\\caspe\\appdata\\roaming\\python\\python39\\site-packages (from ai-economist) (2.8.1)\n",
      "Requirement already satisfied: pytz==2021.1 in c:\\users\\caspe\\anaconda3\\lib\\site-packages (from ai-economist) (2021.1)\n",
      "Requirement already satisfied: pyyaml==5.4.1 in c:\\users\\caspe\\appdata\\roaming\\python\\python39\\site-packages (from ai-economist) (5.4.1)\n",
      "Requirement already satisfied: pyzmq==22.0.3 in c:\\users\\caspe\\anaconda3\\lib\\site-packages (from ai-economist) (22.0.3)\n",
      "Requirement already satisfied: qtconsole==5.1.0 in c:\\users\\caspe\\appdata\\roaming\\python\\python39\\site-packages (from ai-economist) (5.1.0)\n",
      "Requirement already satisfied: QtPy==1.9.0 in c:\\users\\caspe\\anaconda3\\lib\\site-packages (from ai-economist) (1.9.0)\n",
      "Requirement already satisfied: regex==2021.4.4 in c:\\users\\caspe\\anaconda3\\lib\\site-packages (from ai-economist) (2021.4.4)\n",
      "Requirement already satisfied: requests==2.25.1 in c:\\users\\caspe\\appdata\\roaming\\python\\python39\\site-packages (from ai-economist) (2.25.1)\n",
      "Requirement already satisfied: scipy==1.6.3 in c:\\users\\caspe\\appdata\\roaming\\python\\python39\\site-packages (from ai-economist) (1.6.3)\n",
      "Requirement already satisfied: Send2Trash==1.5.0 in c:\\users\\caspe\\anaconda3\\lib\\site-packages (from ai-economist) (1.5.0)\n",
      "Requirement already satisfied: six==1.16.0 in c:\\users\\caspe\\anaconda3\\lib\\site-packages (from ai-economist) (1.16.0)\n",
      "Requirement already satisfied: soupsieve==2.2.1 in c:\\users\\caspe\\anaconda3\\lib\\site-packages (from ai-economist) (2.2.1)\n",
      "Requirement already satisfied: terminado==0.10.0 in c:\\users\\caspe\\anaconda3\\lib\\site-packages (from ai-economist) (0.10.0)\n",
      "Requirement already satisfied: testpath==0.5.0 in c:\\users\\caspe\\anaconda3\\lib\\site-packages (from ai-economist) (0.5.0)\n",
      "Requirement already satisfied: toml==0.10.2 in c:\\users\\caspe\\anaconda3\\lib\\site-packages (from ai-economist) (0.10.2)\n",
      "Requirement already satisfied: tornado==6.1 in c:\\users\\caspe\\anaconda3\\lib\\site-packages (from ai-economist) (6.1)\n",
      "Requirement already satisfied: tqdm==4.60.0 in c:\\users\\caspe\\anaconda3\\lib\\site-packages (from ai-economist) (4.60.0)\n",
      "Requirement already satisfied: traitlets==5.0.5 in c:\\users\\caspe\\anaconda3\\lib\\site-packages (from ai-economist) (5.0.5)\n",
      "Requirement already satisfied: typing-extensions==3.10.0.0 in c:\\users\\caspe\\anaconda3\\lib\\site-packages (from ai-economist) (3.10.0.0)\n",
      "Requirement already satisfied: urllib3==1.26.5 in c:\\users\\caspe\\anaconda3\\lib\\site-packages (from ai-economist) (1.26.5)\n",
      "Requirement already satisfied: wcwidth==0.2.5 in c:\\users\\caspe\\anaconda3\\lib\\site-packages (from ai-economist) (0.2.5)\n",
      "Requirement already satisfied: webencodings==0.5.1 in c:\\users\\caspe\\anaconda3\\lib\\site-packages (from ai-economist) (0.5.1)\n",
      "Requirement already satisfied: widgetsnbextension==3.5.1 in c:\\users\\caspe\\appdata\\roaming\\python\\python39\\site-packages (from ai-economist) (3.5.1)\n",
      "Requirement already satisfied: wrapt==1.12.1 in c:\\users\\caspe\\anaconda3\\lib\\site-packages (from ai-economist) (1.12.1)\n",
      "Requirement already satisfied: yfinance in c:\\users\\caspe\\anaconda3\\lib\\site-packages (from ai-economist) (0.1.67)\n",
      "Requirement already satisfied: colorama in c:\\users\\caspe\\anaconda3\\lib\\site-packages (from click==8.0.1->ai-economist) (0.4.5)\n",
      "Requirement already satisfied: setuptools>=18.5 in c:\\users\\caspe\\anaconda3\\lib\\site-packages (from ipython==7.31.1->ai-economist) (63.4.1)\n",
      "Requirement already satisfied: pywin32>=1.0 in c:\\users\\caspe\\anaconda3\\lib\\site-packages (from jupyter-core==4.7.1->ai-economist) (302)\n",
      "Requirement already satisfied: atomicwrites>=1.0 in c:\\users\\caspe\\anaconda3\\lib\\site-packages (from pytest==6.2.4->ai-economist) (1.4.0)\n",
      "Requirement already satisfied: pywinpty>=1.1.0 in c:\\users\\caspe\\anaconda3\\lib\\site-packages (from terminado==0.10.0->ai-economist) (2.0.2)\n",
      "Requirement already satisfied: lxml>=4.5.1 in c:\\users\\caspe\\anaconda3\\lib\\site-packages (from yfinance->ai-economist) (4.9.1)\n",
      "Requirement already satisfied: multitasking>=0.0.7 in c:\\users\\caspe\\anaconda3\\lib\\site-packages (from yfinance->ai-economist) (0.0.11)\n",
      "Installing collected packages: ai-economist\n",
      "  Attempting uninstall: ai-economist\n",
      "    Found existing installation: ai-economist 1.7.1\n",
      "    Uninstalling ai-economist-1.7.1:\n",
      "      Successfully uninstalled ai-economist-1.7.1\n",
      "  Running setup.py develop for ai-economist\n",
      "Successfully installed ai-economist\n"
     ]
    }
   ],
   "source": [
    "!pip install -e git+https://github.com/casperbroch/ai-economist@stockmarket#egg=ai-economist"
   ]
  },
  {
   "cell_type": "code",
   "execution_count": 1,
   "id": "618c9afa",
   "metadata": {},
   "outputs": [],
   "source": [
    "# Define the configuration of the environment that will be built\n",
    "\n",
    "env_config_dict = {\n",
    "    # ===== SCENARIO CLASS =====\n",
    "    # Which Scenario class to use: the class's name in the Scenario Registry (foundation.scenarios).\n",
    "    # The environment object will be an instance of the Scenario class.\n",
    "    'scenario_name': 'stock_market_simulation',\n",
    "    \n",
    "    # ===== COMPONENTS =====\n",
    "    # Which components to use (specified as list of (\"component_name\", {component_kwargs}) tuples).\n",
    "    #   \"component_name\" refers to the Component class's name in the Component Registry (foundation.components)\n",
    "    #   {component_kwargs} is a dictionary of kwargs passed to the Component class\n",
    "    # The order in which components reset, step, and generate obs follows their listed order below.\n",
    "    'components': [\n",
    "        # (1) Building houses\n",
    "        ('BuyOrSellStocks', {}),\n",
    "        # (2) Trading collectible resources\n",
    "        ('ExecCircuitBreaker', {}),\n",
    "    ],\n",
    "    \n",
    "\n",
    "    # ===== STANDARD ARGUMENTS ======\n",
    "    # kwargs that are used by every Scenario class (i.e. defined in BaseEnvironment)\n",
    "    'n_agents': 4,          # Number of non-planner agents (must be > 1)\n",
    "    'world_size': [1, 1], # [Height, Width] of the env world\n",
    "    'episode_length': 100, # Number of timesteps per episode\n",
    "    \n",
    "    # In multi-action-mode, the policy selects an action for each action subspace (defined in component code).\n",
    "    # Otherwise, the policy selects only 1 action.\n",
    "    'multi_action_mode_agents': False,\n",
    "    'multi_action_mode_planner': False,\n",
    "    \n",
    "    # When flattening observations, concatenate scalar & vector observations before output.\n",
    "    # Otherwise, return observations with minimal processing.\n",
    "    'flatten_observations': False,\n",
    "    # When Flattening masks, concatenate each action subspace mask into a single array.\n",
    "    # Note: flatten_masks = True is required for masking action logits in the code below.\n",
    "    'flatten_masks': True,\n",
    "}"
   ]
  },
  {
   "cell_type": "code",
   "execution_count": 2,
   "id": "029c36a0",
   "metadata": {},
   "outputs": [
    {
     "name": "stdout",
     "output_type": "stream",
     "text": [
      "Inside covid19_components.py: 0 GPUs are available.\n",
      "No GPUs found! Running the simulation on a CPU.\n",
      "Inside covid19_env.py: 0 GPUs are available.\n",
      "No GPUs found! Running the simulation on a CPU.\n",
      "[*********************100%***********************]  1 of 1 completed\n",
      "[*********************100%***********************]  1 of 1 completed\n"
     ]
    },
    {
     "name": "stderr",
     "output_type": "stream",
     "text": [
      "2024-05-01 13:55:11,681\tINFO util.py:154 -- Outdated packages:\n",
      "  ipywidgets==7.6.3 found, needs ipywidgets>=8\n",
      "Run `pip install -U ipywidgets`, then restart the notebook server for rich notebook output.\n",
      "2024-05-01 13:55:11,976\tINFO util.py:154 -- Outdated packages:\n",
      "  ipywidgets==7.6.3 found, needs ipywidgets>=8\n",
      "Run `pip install -U ipywidgets`, then restart the notebook server for rich notebook output.\n"
     ]
    },
    {
     "name": "stdout",
     "output_type": "stream",
     "text": [
      "[*********************100%***********************]  1 of 1 completed\n"
     ]
    },
    {
     "ename": "AttributeError",
     "evalue": "'NoneType' object has no attribute 'price'",
     "output_type": "error",
     "traceback": [
      "\u001b[1;31m---------------------------------------------------------------------------\u001b[0m",
      "\u001b[1;31mAttributeError\u001b[0m                            Traceback (most recent call last)",
      "\u001b[1;32m<ipython-input-2-12508959bd45>\u001b[0m in \u001b[0;36m<module>\u001b[1;34m\u001b[0m\n\u001b[0;32m      1\u001b[0m \u001b[1;32mfrom\u001b[0m \u001b[0mrllib\u001b[0m\u001b[1;33m.\u001b[0m\u001b[0menv_wrapper\u001b[0m \u001b[1;32mimport\u001b[0m \u001b[0mRLlibEnvWrapper\u001b[0m\u001b[1;33m\u001b[0m\u001b[1;33m\u001b[0m\u001b[0m\n\u001b[1;32m----> 2\u001b[1;33m \u001b[0menv_obj\u001b[0m \u001b[1;33m=\u001b[0m \u001b[0mRLlibEnvWrapper\u001b[0m\u001b[1;33m(\u001b[0m\u001b[1;33m{\u001b[0m\u001b[1;34m\"env_config_dict\"\u001b[0m\u001b[1;33m:\u001b[0m \u001b[0menv_config_dict\u001b[0m\u001b[1;33m}\u001b[0m\u001b[1;33m,\u001b[0m \u001b[0mverbose\u001b[0m\u001b[1;33m=\u001b[0m\u001b[1;32mTrue\u001b[0m\u001b[1;33m)\u001b[0m\u001b[1;33m\u001b[0m\u001b[1;33m\u001b[0m\u001b[0m\n\u001b[0m",
      "\u001b[1;32m~\\Documents\\GitHub Private\\ai-economist\\tutorials\\rllib\\env_wrapper.py\u001b[0m in \u001b[0;36m__init__\u001b[1;34m(self, env_config, verbose)\u001b[0m\n\u001b[0;32m     70\u001b[0m         \u001b[0mself\u001b[0m\u001b[1;33m.\u001b[0m\u001b[0msample_agent_idx\u001b[0m \u001b[1;33m=\u001b[0m \u001b[0mstr\u001b[0m\u001b[1;33m(\u001b[0m\u001b[0mself\u001b[0m\u001b[1;33m.\u001b[0m\u001b[0menv\u001b[0m\u001b[1;33m.\u001b[0m\u001b[0mall_agents\u001b[0m\u001b[1;33m[\u001b[0m\u001b[1;36m0\u001b[0m\u001b[1;33m]\u001b[0m\u001b[1;33m.\u001b[0m\u001b[0midx\u001b[0m\u001b[1;33m)\u001b[0m\u001b[1;33m\u001b[0m\u001b[1;33m\u001b[0m\u001b[0m\n\u001b[0;32m     71\u001b[0m \u001b[1;33m\u001b[0m\u001b[0m\n\u001b[1;32m---> 72\u001b[1;33m         \u001b[0mobs\u001b[0m \u001b[1;33m=\u001b[0m \u001b[0mself\u001b[0m\u001b[1;33m.\u001b[0m\u001b[0menv\u001b[0m\u001b[1;33m.\u001b[0m\u001b[0mreset\u001b[0m\u001b[1;33m(\u001b[0m\u001b[1;33m)\u001b[0m\u001b[1;33m\u001b[0m\u001b[1;33m\u001b[0m\u001b[0m\n\u001b[0m\u001b[0;32m     73\u001b[0m \u001b[1;33m\u001b[0m\u001b[0m\n\u001b[0;32m     74\u001b[0m         \u001b[0mself\u001b[0m\u001b[1;33m.\u001b[0m\u001b[0mobservation_space\u001b[0m \u001b[1;33m=\u001b[0m \u001b[0mself\u001b[0m\u001b[1;33m.\u001b[0m\u001b[0m_dict_to_spaces_dict\u001b[0m\u001b[1;33m(\u001b[0m\u001b[0mobs\u001b[0m\u001b[1;33m[\u001b[0m\u001b[1;34m\"0\"\u001b[0m\u001b[1;33m]\u001b[0m\u001b[1;33m)\u001b[0m\u001b[1;33m\u001b[0m\u001b[1;33m\u001b[0m\u001b[0m\n",
      "\u001b[1;32mc:\\users\\caspe\\documents\\github private\\ai-economist\\tutorials\\src\\ai-economist\\ai_economist\\foundation\\base\\base_env.py\u001b[0m in \u001b[0;36mreset\u001b[1;34m(self, seed_state, force_dense_logging)\u001b[0m\n\u001b[0;32m    902\u001b[0m         \u001b[1;31m# which includes resetting the world and agent states\u001b[0m\u001b[1;33m\u001b[0m\u001b[1;33m\u001b[0m\u001b[0m\n\u001b[0;32m    903\u001b[0m         \u001b[0mself\u001b[0m\u001b[1;33m.\u001b[0m\u001b[0mreset_starting_layout\u001b[0m\u001b[1;33m(\u001b[0m\u001b[1;33m)\u001b[0m\u001b[1;33m\u001b[0m\u001b[1;33m\u001b[0m\u001b[0m\n\u001b[1;32m--> 904\u001b[1;33m         \u001b[0mself\u001b[0m\u001b[1;33m.\u001b[0m\u001b[0mreset_agent_states\u001b[0m\u001b[1;33m(\u001b[0m\u001b[1;33m)\u001b[0m\u001b[1;33m\u001b[0m\u001b[1;33m\u001b[0m\u001b[0m\n\u001b[0m\u001b[0;32m    905\u001b[0m \u001b[1;33m\u001b[0m\u001b[0m\n\u001b[0;32m    906\u001b[0m         \u001b[1;31m# Perform the component resets for each registered component\u001b[0m\u001b[1;33m\u001b[0m\u001b[1;33m\u001b[0m\u001b[0m\n",
      "\u001b[1;32mc:\\users\\caspe\\documents\\github private\\ai-economist\\tutorials\\src\\ai-economist\\ai_economist\\foundation\\scenarios\\stock_market_simulation\\stock_market_simulation.py\u001b[0m in \u001b[0;36mreset_agent_states\u001b[1;34m(self)\u001b[0m\n\u001b[0;32m     64\u001b[0m             \u001b[0magent\u001b[0m\u001b[1;33m.\u001b[0m\u001b[0mstate\u001b[0m\u001b[1;33m[\u001b[0m\u001b[1;34m\"endogenous\"\u001b[0m\u001b[1;33m]\u001b[0m\u001b[1;33m[\u001b[0m\u001b[1;34m\"TotalBalance\"\u001b[0m\u001b[1;33m]\u001b[0m \u001b[1;33m=\u001b[0m \u001b[0mstarting_funds\u001b[0m\u001b[1;33m\u001b[0m\u001b[1;33m\u001b[0m\u001b[0m\n\u001b[0;32m     65\u001b[0m \u001b[1;33m\u001b[0m\u001b[0m\n\u001b[1;32m---> 66\u001b[1;33m             \u001b[0magent\u001b[0m\u001b[1;33m.\u001b[0m\u001b[0mstate\u001b[0m\u001b[1;33m[\u001b[0m\u001b[1;34m\"endogenous\"\u001b[0m\u001b[1;33m]\u001b[0m\u001b[1;33m[\u001b[0m\u001b[1;34m\"StockPrice\"\u001b[0m\u001b[1;33m]\u001b[0m \u001b[1;33m=\u001b[0m \u001b[0mself\u001b[0m\u001b[1;33m.\u001b[0m\u001b[0mmarket\u001b[0m\u001b[1;33m.\u001b[0m\u001b[0mprice\u001b[0m\u001b[1;33m\u001b[0m\u001b[1;33m\u001b[0m\u001b[0m\n\u001b[0m\u001b[0;32m     67\u001b[0m             \u001b[0magent\u001b[0m\u001b[1;33m.\u001b[0m\u001b[0mstate\u001b[0m\u001b[1;33m[\u001b[0m\u001b[1;34m\"endogenous\"\u001b[0m\u001b[1;33m]\u001b[0m\u001b[1;33m[\u001b[0m\u001b[1;34m\"StockPriceHistory\"\u001b[0m\u001b[1;33m]\u001b[0m \u001b[1;33m=\u001b[0m \u001b[0mnp\u001b[0m\u001b[1;33m.\u001b[0m\u001b[0marray\u001b[0m\u001b[1;33m(\u001b[0m\u001b[1;33m[\u001b[0m\u001b[0mself\u001b[0m\u001b[1;33m.\u001b[0m\u001b[0mmarket\u001b[0m\u001b[1;33m.\u001b[0m\u001b[0mprice\u001b[0m\u001b[1;33m]\u001b[0m\u001b[1;33m)\u001b[0m\u001b[1;33m\u001b[0m\u001b[1;33m\u001b[0m\u001b[0m\n\u001b[0;32m     68\u001b[0m             \u001b[0magent\u001b[0m\u001b[1;33m.\u001b[0m\u001b[0mstate\u001b[0m\u001b[1;33m[\u001b[0m\u001b[1;34m\"endogenous\"\u001b[0m\u001b[1;33m]\u001b[0m\u001b[1;33m[\u001b[0m\u001b[1;34m\"Volumes\"\u001b[0m\u001b[1;33m]\u001b[0m \u001b[1;33m=\u001b[0m \u001b[0mnp\u001b[0m\u001b[1;33m.\u001b[0m\u001b[0marray\u001b[0m\u001b[1;33m(\u001b[0m\u001b[1;33m[\u001b[0m\u001b[1;36m0\u001b[0m\u001b[1;33m]\u001b[0m\u001b[1;33m)\u001b[0m\u001b[1;33m\u001b[0m\u001b[1;33m\u001b[0m\u001b[0m\n",
      "\u001b[1;31mAttributeError\u001b[0m: 'NoneType' object has no attribute 'price'"
     ]
    }
   ],
   "source": [
    "from rllib.env_wrapper import RLlibEnvWrapper\n",
    "env_obj = RLlibEnvWrapper({\"env_config_dict\": env_config_dict}, verbose=True)"
   ]
  },
  {
   "cell_type": "code",
   "execution_count": null,
   "id": "fe751b55",
   "metadata": {},
   "outputs": [],
   "source": [
    "import ray\n",
    "from ray.rllib.agents.ppo import PPOTrainer"
   ]
  },
  {
   "cell_type": "code",
   "execution_count": null,
   "id": "9a826ce0",
   "metadata": {},
   "outputs": [],
   "source": [
    "policies = {\n",
    "    \"a\": (\n",
    "        None,  # uses default policy\n",
    "        env_obj.observation_space,\n",
    "        env_obj.action_space,\n",
    "        {}  # define a custom agent policy configuration.\n",
    "    ),\n",
    "    \"p\": (\n",
    "        None,  # uses default policy\n",
    "        env_obj.observation_space_pl,\n",
    "        env_obj.action_space_pl,\n",
    "        {}  # define a custom planner policy configuration.\n",
    "    )\n",
    "}\n",
    "\n",
    "# In foundation, all the agents have integer ids and the social planner has an id of \"p\"\n",
    "policy_mapping_fun = lambda i: \"a\" if str(i).isdigit() else \"p\"\n",
    "\n",
    "policies_to_train = [\"a\", \"p\"]"
   ]
  },
  {
   "cell_type": "code",
   "execution_count": null,
   "id": "64331642",
   "metadata": {},
   "outputs": [],
   "source": [
    "trainer_config = {\n",
    "    \"multiagent\": {\n",
    "        \"policies\": policies,\n",
    "        \"policies_to_train\": policies_to_train,\n",
    "        \"policy_mapping_fn\": policy_mapping_fun,\n",
    "    }\n",
    "}"
   ]
  },
  {
   "cell_type": "code",
   "execution_count": null,
   "id": "f2476f35",
   "metadata": {},
   "outputs": [],
   "source": [
    "trainer_config.update(\n",
    "    {\n",
    "        \"num_workers\": 2,\n",
    "        \"num_envs_per_worker\": 2,\n",
    "        # Other training parameters\n",
    "        \"train_batch_size\":  4000,\n",
    "        \"sgd_minibatch_size\": 4000,\n",
    "        \"num_sgd_iter\": 1\n",
    "    }\n",
    ")"
   ]
  },
  {
   "cell_type": "code",
   "execution_count": null,
   "id": "33e6c665",
   "metadata": {},
   "outputs": [],
   "source": [
    "# We also add the \"num_envs_per_worker\" parameter for the env. wrapper to index the environments.\n",
    "env_config = {\n",
    "    \"env_config_dict\": env_config_dict,\n",
    "    \"num_envs_per_worker\": trainer_config.get('num_envs_per_worker'),   \n",
    "}\n",
    "\n",
    "trainer_config.update(\n",
    "    {\n",
    "        \"env_config\": env_config        \n",
    "    }\n",
    ")"
   ]
  },
  {
   "cell_type": "code",
   "execution_count": null,
   "id": "cf127879",
   "metadata": {},
   "outputs": [],
   "source": [
    "# Initialize Ray\n",
    "ray.init(webui_host=\"127.0.0.1\")"
   ]
  },
  {
   "cell_type": "code",
   "execution_count": null,
   "id": "8f9c08a5",
   "metadata": {},
   "outputs": [],
   "source": [
    "# Create the PPO trainer.\n",
    "trainer = PPOTrainer(\n",
    "    env=RLlibEnvWrapper,\n",
    "    config=trainer_config,\n",
    "    )"
   ]
  },
  {
   "cell_type": "code",
   "execution_count": null,
   "id": "30b07c25",
   "metadata": {},
   "outputs": [],
   "source": [
    "NUM_ITERS = 10\n",
    "for iteration in range(NUM_ITERS):\n",
    "    print(f'********** Iter : {iteration} **********')\n",
    "    result = trainer.train()\n",
    "    print(f'''episode_reward_mean: {result.get('episode_reward_mean')}''')"
   ]
  },
  {
   "cell_type": "code",
   "execution_count": null,
   "id": "7d87d22c",
   "metadata": {},
   "outputs": [],
   "source": [
    "env_obj.env.get_agent(3).state"
   ]
  },
  {
   "cell_type": "code",
   "execution_count": null,
   "id": "d7e6256f",
   "metadata": {},
   "outputs": [],
   "source": [
    "def generate_rollout_from_current_trainer_policy(\n",
    "    trainer, \n",
    "    env_obj,\n",
    "    num_dense_logs=1\n",
    "):\n",
    "    dense_logs = {}\n",
    "    for idx in range(num_dense_logs):\n",
    "        # Set initial states\n",
    "        agent_states = {}\n",
    "        for agent_idx in range(env_obj.env.n_agents):\n",
    "            agent_states[str(agent_idx)] = trainer.get_policy(\"a\").get_initial_state()\n",
    "        planner_states = trainer.get_policy(\"p\").get_initial_state()   \n",
    "\n",
    "        # Play out the episode\n",
    "        obs = env_obj.reset(force_dense_logging=True)\n",
    "        for t in range(env_obj.env.episode_length):\n",
    "            actions = {}\n",
    "            for agent_idx in range(env_obj.env.n_agents):\n",
    "                # Use the trainer object directly to sample actions for each agent\n",
    "                actions[str(agent_idx)] = trainer.compute_action(\n",
    "                    obs[str(agent_idx)], \n",
    "                    agent_states[str(agent_idx)], \n",
    "                    policy_id=\"a\",\n",
    "                    full_fetch=False\n",
    "                )\n",
    "\n",
    "            # Action sampling for the planner\n",
    "            actions[\"p\"] = trainer.compute_action(\n",
    "                obs['p'], \n",
    "                planner_states, \n",
    "                policy_id='p',\n",
    "                full_fetch=False\n",
    "            )\n",
    "\n",
    "            obs, rew, done, info = env_obj.step(actions)        \n",
    "            if done['__all__']:\n",
    "                break\n",
    "        dense_logs[idx] = env_obj.env.dense_log\n",
    "    return dense_logs"
   ]
  },
  {
   "cell_type": "code",
   "execution_count": null,
   "id": "b1fbc5f7",
   "metadata": {},
   "outputs": [],
   "source": [
    "dense_logs = generate_rollout_from_current_trainer_policy(\n",
    "    trainer, \n",
    "    env_obj,\n",
    "    num_dense_logs=1\n",
    ")"
   ]
  },
  {
   "cell_type": "code",
   "execution_count": null,
   "id": "d82a2faa",
   "metadata": {},
   "outputs": [],
   "source": [
    "dense_logs[0]['states'][0]"
   ]
  },
  {
   "cell_type": "code",
   "execution_count": null,
   "id": "63f072c0",
   "metadata": {},
   "outputs": [],
   "source": [
    "planner_gr_score_importances = [log[\"p\"][\"GreenScoreImportance\"] for log in dense_logs[0]['states']]"
   ]
  },
  {
   "cell_type": "code",
   "execution_count": null,
   "id": "c0c97727",
   "metadata": {},
   "outputs": [],
   "source": [
    "agent_0_green_scores = [log[\"0\"][\"endogenous\"][\"GreenScore\"] for log in dense_logs[0]['states']]\n",
    "agent_1_green_scores = [log[\"1\"][\"endogenous\"][\"GreenScore\"] for log in dense_logs[0]['states']]\n",
    "agent_2_green_scores = [log[\"2\"][\"endogenous\"][\"GreenScore\"] for log in dense_logs[0]['states']]\n",
    "agent_3_green_scores = [log[\"3\"][\"endogenous\"][\"GreenScore\"] for log in dense_logs[0]['states']]"
   ]
  },
  {
   "cell_type": "code",
   "execution_count": null,
   "id": "f7221a0a",
   "metadata": {},
   "outputs": [],
   "source": [
    "agent_0_rel_scores = [log[\"0\"][\"endogenous\"][\"ReliabilityScore\"] for log in dense_logs[0]['states']]\n",
    "agent_1_rel_scores = [log[\"1\"][\"endogenous\"][\"ReliabilityScore\"] for log in dense_logs[0]['states']]\n",
    "agent_2_rel_scores = [log[\"2\"][\"endogenous\"][\"ReliabilityScore\"] for log in dense_logs[0]['states']]\n",
    "agent_3_rel_scores = [log[\"3\"][\"endogenous\"][\"ReliabilityScore\"] for log in dense_logs[0]['states']]"
   ]
  },
  {
   "cell_type": "code",
   "execution_count": null,
   "id": "e339d422",
   "metadata": {},
   "outputs": [],
   "source": [
    "agent_0_data = [log[\"0\"][\"endogenous\"][\"TotalData\"] for log in dense_logs[0]['states']]\n",
    "agent_1_data = [log[\"1\"][\"endogenous\"][\"TotalData\"] for log in dense_logs[0]['states']]\n",
    "agent_2_data = [log[\"2\"][\"endogenous\"][\"TotalData\"] for log in dense_logs[0]['states']]\n",
    "agent_3_data = [log[\"3\"][\"endogenous\"][\"TotalData\"] for log in dense_logs[0]['states']]"
   ]
  },
  {
   "cell_type": "code",
   "execution_count": null,
   "id": "94152c35",
   "metadata": {},
   "outputs": [],
   "source": [
    "len(agent_0_green_scores)"
   ]
  },
  {
   "cell_type": "code",
   "execution_count": null,
   "id": "d092834f",
   "metadata": {},
   "outputs": [],
   "source": [
    "import matplotlib.pyplot as plt\n",
    "import numpy as np\n",
    "\n",
    "plt.plot(np.arange(0,1001),agent_0_green_scores, label=\"Agent 0\")\n",
    "plt.plot(np.arange(0,1001),agent_1_green_scores, label=\"Agent 1\")\n",
    "plt.plot(np.arange(0,1001),agent_2_green_scores, label=\"Agent 2\")\n",
    "plt.plot(np.arange(0,1001),agent_3_green_scores, label=\"Agent 3\")\n",
    "plt.title('Miner Green Scores')\n",
    "plt.legend()\n",
    "plt.xlabel('Timesteps')\n",
    "plt.ylabel('Green Scores')\n",
    "plt.savefig(\"miners_green_scores.png\")\n",
    "plt.show()"
   ]
  },
  {
   "cell_type": "code",
   "execution_count": null,
   "id": "385da864",
   "metadata": {},
   "outputs": [],
   "source": [
    "plt.plot(np.arange(0,1001),agent_0_rel_scores, label=\"Agent 0\")\n",
    "plt.plot(np.arange(0,1001),agent_1_rel_scores, label=\"Agent 1\")\n",
    "plt.plot(np.arange(0,1001),agent_2_rel_scores, label=\"Agent 2\")\n",
    "plt.plot(np.arange(0,1001),agent_3_rel_scores, label=\"Agent 3\")\n",
    "plt.title('Miner Reliability Scores')\n",
    "plt.legend()\n",
    "plt.xlabel('Timesteps')\n",
    "plt.ylabel('Reliability Scores')\n",
    "plt.savefig(\"miners_reliability_scores.png\")\n",
    "plt.show()"
   ]
  },
  {
   "cell_type": "code",
   "execution_count": null,
   "id": "44147fc8",
   "metadata": {},
   "outputs": [],
   "source": [
    "plt.plot(np.arange(0,1001),agent_0_data, label=\"Agent 0\")\n",
    "plt.plot(np.arange(0,1001),agent_1_data, label=\"Agent 1\")\n",
    "plt.plot(np.arange(0,1001),agent_2_data, label=\"Agent 2\")\n",
    "plt.plot(np.arange(0,1001),agent_3_data, label=\"Agent 3\")\n",
    "plt.title('Total Data Stored By Each Miner')\n",
    "plt.legend()\n",
    "plt.xlabel('Timesteps')\n",
    "plt.ylabel('Data Storage')\n",
    "plt.savefig(\"miners_data_stored.png\")\n",
    "plt.show()"
   ]
  },
  {
   "cell_type": "code",
   "execution_count": null,
   "id": "a0134317",
   "metadata": {},
   "outputs": [],
   "source": [
    "plt.plot(np.arange(0,1001),planner_gr_score_importances)\n",
    "plt.title('Green Score Importance over Time')\n",
    "plt.xlabel('Timesteps')\n",
    "plt.ylabel('Green Score Importance')\n",
    "plt.savefig(\"planner_policy.png\")\n",
    "plt.show()"
   ]
  },
  {
   "cell_type": "code",
   "execution_count": null,
   "id": "7b2e2c8e",
   "metadata": {},
   "outputs": [],
   "source": []
  },
  {
   "cell_type": "code",
   "execution_count": null,
   "id": "6ac30c44",
   "metadata": {},
   "outputs": [],
   "source": [
    "# Shutdown Ray after use\n",
    "ray.shutdown()"
   ]
  },
  {
   "cell_type": "code",
   "execution_count": null,
   "id": "1e4a8540",
   "metadata": {},
   "outputs": [],
   "source": []
  }
 ],
 "metadata": {
  "kernelspec": {
   "display_name": "Python 3 (ipykernel)",
   "language": "python",
   "name": "python3"
  },
  "language_info": {
   "codemirror_mode": {
    "name": "ipython",
    "version": 3
   },
   "file_extension": ".py",
   "mimetype": "text/x-python",
   "name": "python",
   "nbconvert_exporter": "python",
   "pygments_lexer": "ipython3",
   "version": "3.9.13"
  }
 },
 "nbformat": 4,
 "nbformat_minor": 5
}
